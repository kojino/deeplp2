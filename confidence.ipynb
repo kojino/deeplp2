{
 "cells": [
  {
   "cell_type": "code",
   "execution_count": 2,
   "metadata": {},
   "outputs": [],
   "source": [
    "from __future__ import print_function\n",
    "from pathlib import Path\n",
    "from random import shuffle\n",
    "import random\n",
    "\n",
    "import argparse\n",
    "import copy\n",
    "import numpy as np\n",
    "import sys\n",
    "import tensorflow as tf\n",
    "\n",
    "from deeplp.models.data_prep import create_weighted_graph, load_data\n",
    "from deeplp.models.data_prep import prepare_data, random_unlabel, calc_masks\n",
    "from deeplp.models.deeplp_att import DeepLP_ATT\n",
    "from deeplp.models.deeplp_edge import DeepLP_Edge\n",
    "from deeplp.models.deeplp_wrbf import DeepLP_WRBF\n",
    "from deeplp.models.lp import LP\n",
    "from deeplp.models.utils import accuracy, indices_to_vec\n",
    "from deeplp.models.data_prep import select_features"
   ]
  },
  {
   "cell_type": "code",
   "execution_count": 16,
   "metadata": {},
   "outputs": [],
   "source": [
    "confidence=True"
   ]
  },
  {
   "cell_type": "code",
   "execution_count": 3,
   "metadata": {},
   "outputs": [
    {
     "name": "stdout",
     "output_type": "stream",
     "text": [
      "-----------cora-----------\n",
      "Loading labels...\n",
      "Loading features...\n",
      "Loading edge features...\n",
      "Weights: Asymmetric\n",
      "Loading graph...\n",
      "Loading weights...\n",
      "Done!\n"
     ]
    }
   ],
   "source": [
    "true_labels, features, edge_features, node_features, \\\n",
    "graph, weights = load_data('cora',directed=1,confidence=confidence)\n"
   ]
  },
  {
   "cell_type": "code",
   "execution_count": 4,
   "metadata": {},
   "outputs": [],
   "source": [
    "\n",
    "labeled_indices, unlabeled_indices = \\\n",
    "    random_unlabel(true_labels,0.99,features,\n",
    "                   seed=0,confidence=confidence)\n"
   ]
  },
  {
   "cell_type": "code",
   "execution_count": 5,
   "metadata": {},
   "outputs": [],
   "source": [
    "\n",
    "num_nodes, num_classes = true_labels.shape\n",
    "labels, is_labeled = calc_masks(true_labels, labeled_indices, unlabeled_indices, logistic=0, confidence=confidence)"
   ]
  },
  {
   "cell_type": "code",
   "execution_count": 11,
   "metadata": {},
   "outputs": [],
   "source": [
    "train_data, validation_data = prepare_data(labels,is_labeled,\n",
    "                                           labeled_indices,None,true_labels,\n",
    "                                           1,100,\n",
    "                                           0)"
   ]
  },
  {
   "cell_type": "code",
   "execution_count": 17,
   "metadata": {},
   "outputs": [],
   "source": [
    "lp = LP()\n",
    "unlabeled_pred = lp.iter_sp(labels,\n",
    "                     weights>0,\n",
    "                     is_labeled,\n",
    "                     100,\n",
    "                     unlabeled_indices)\n",
    "if confidence:\n",
    "    unlabeled_pred = unlabeled_pred[:,:-1]\n",
    "y_pred = np.argmax(unlabeled_pred,axis=1)\n",
    "y_true = np.argmax(true_labels[unlabeled_indices],axis=1)\n",
    "accuracy = np.mean(y_pred == y_true)\n"
   ]
  },
  {
   "cell_type": "code",
   "execution_count": 20,
   "metadata": {},
   "outputs": [
    {
     "data": {
      "text/plain": [
       "(2485, 8)"
      ]
     },
     "execution_count": 20,
     "metadata": {},
     "output_type": "execute_result"
    }
   ],
   "source": [
    "labels.shape"
   ]
  },
  {
   "cell_type": "code",
   "execution_count": null,
   "metadata": {},
   "outputs": [],
   "source": [
    "true_labels.shape"
   ]
  },
  {
   "cell_type": "code",
   "execution_count": 18,
   "metadata": {},
   "outputs": [
    {
     "data": {
      "text/plain": [
       "0.640650406504065"
      ]
     },
     "execution_count": 18,
     "metadata": {},
     "output_type": "execute_result"
    }
   ],
   "source": [
    "trained_model = DeepLP_Edge('edge',\n",
    "                            log_name,\n",
    "                            edge_features, # [:,6:] for edge features only\n",
    "                            graph,\n",
    "                            labels.shape[1],\n",
    "                            unlabeled_indices,\n",
    "                            confidence,\n",
    "                            loss_class_mass=args.loss_class_mass,\n",
    "                            regularize=reg,\n",
    "                            regularize_type=args.regularize_type,\n",
    "                            num_iter=args.num_iter,\n",
    "                            clamp=args.clamp,\n",
    "                            lr=args.lr,\n",
    "                            seed=args.parameter_seed,\n",
    "                            weight_normalization=args.weight_normalization)"
   ]
  },
  {
   "cell_type": "code",
   "execution_count": null,
   "metadata": {},
   "outputs": [],
   "source": []
  }
 ],
 "metadata": {
  "kernelspec": {
   "display_name": "ml",
   "language": "python",
   "name": "ml"
  },
  "language_info": {
   "codemirror_mode": {
    "name": "ipython",
    "version": 3
   },
   "file_extension": ".py",
   "mimetype": "text/x-python",
   "name": "python",
   "nbconvert_exporter": "python",
   "pygments_lexer": "ipython3",
   "version": "3.6.3"
  }
 },
 "nbformat": 4,
 "nbformat_minor": 2
}
