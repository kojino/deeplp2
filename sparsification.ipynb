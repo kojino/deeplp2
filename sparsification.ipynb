{
 "cells": [
  {
   "cell_type": "code",
   "execution_count": 1,
   "metadata": {},
   "outputs": [],
   "source": [
    "using PyPlot\n",
    "using Laplacians"
   ]
  },
  {
   "cell_type": "code",
   "execution_count": 2,
   "metadata": {},
   "outputs": [
    {
     "data": {
      "text/plain": [
       "true"
      ]
     },
     "execution_count": 2,
     "metadata": {},
     "output_type": "execute_result"
    }
   ],
   "source": [
    "LAPLACIANS_NOAMG = true\n",
    "LAPLACIANS_NOPLOT = true"
   ]
  },
  {
   "cell_type": "code",
   "execution_count": 19,
   "metadata": {},
   "outputs": [
    {
     "data": {
      "text/plain": [
       "957960-element Array{Float64,1}:\n",
       " 1.0\n",
       " 1.0\n",
       " 1.0\n",
       " 1.0\n",
       " 1.0\n",
       " 1.0\n",
       " 1.0\n",
       " 1.0\n",
       " 1.0\n",
       " 1.0\n",
       " 1.0\n",
       " 1.0\n",
       " 1.0\n",
       " ⋮  \n",
       " 1.0\n",
       " 1.0\n",
       " 1.0\n",
       " 1.0\n",
       " 1.0\n",
       " 1.0\n",
       " 1.0\n",
       " 1.0\n",
       " 1.0\n",
       " 1.0\n",
       " 1.0\n",
       " 1.0"
      ]
     },
     "execution_count": 19,
     "metadata": {},
     "output_type": "execute_result"
    }
   ],
   "source": [
    "data = readdlm(\"datasets/flip/flickr/Gsym_dense.csv\",',')\n",
    "data[:,1:2] = data[:,1:2] + 1\n",
    "n = maximum(data[:,1:2])\n",
    "m = size(data)\n",
    "edlist = convert(Array{Int64,2}, data[:,1:2])\n",
    "wts = convert(Array{Float64,1}, data[:,3])"
   ]
  },
  {
   "cell_type": "code",
   "execution_count": 20,
   "metadata": {},
   "outputs": [
    {
     "data": {
      "text/plain": [
       "7971×7971 SparseMatrixCSC{Float64,Int64} with 957960 stored entries:\n",
       "  [188 ,    1]  =  1.0\n",
       "  [230 ,    1]  =  1.0\n",
       "  [426 ,    1]  =  1.0\n",
       "  [480 ,    1]  =  1.0\n",
       "  [738 ,    1]  =  1.0\n",
       "  [817 ,    1]  =  1.0\n",
       "  [1047,    1]  =  1.0\n",
       "  [1338,    1]  =  1.0\n",
       "  [1838,    1]  =  1.0\n",
       "  [2408,    1]  =  1.0\n",
       "  ⋮\n",
       "  [6696, 7969]  =  1.0\n",
       "  [6602, 7970]  =  1.0\n",
       "  [6642, 7970]  =  1.0\n",
       "  [6798, 7970]  =  1.0\n",
       "  [7102, 7970]  =  1.0\n",
       "  [7348, 7970]  =  1.0\n",
       "  [5486, 7971]  =  1.0\n",
       "  [6741, 7971]  =  1.0\n",
       "  [7018, 7971]  =  1.0\n",
       "  [7242, 7971]  =  1.0\n",
       "  [7354, 7971]  =  1.0"
      ]
     },
     "execution_count": 20,
     "metadata": {},
     "output_type": "execute_result"
    }
   ],
   "source": [
    "a = sparse(edlist[:,1],edlist[:,2],wts,n,n)"
   ]
  },
  {
   "cell_type": "code",
   "execution_count": 21,
   "metadata": {},
   "outputs": [
    {
     "data": {
      "text/plain": [
       "7971"
      ]
     },
     "execution_count": 21,
     "metadata": {},
     "output_type": "execute_result"
    }
   ],
   "source": [
    "maximum(edlist[:,2])"
   ]
  },
  {
   "cell_type": "code",
   "execution_count": 30,
   "metadata": {},
   "outputs": [
    {
     "data": {
      "text/plain": [
       "7971×7971 SparseMatrixCSC{Float64,Int64} with 35418 stored entries:\n",
       "  [817 ,    1]  =  7.88617\n",
       "  [3327,    1]  =  7.60532\n",
       "  [1543,    2]  =  2.21282\n",
       "  [1593,    2]  =  2.14013\n",
       "  [1710,    2]  =  2.15506\n",
       "  [3454,    2]  =  2.18527\n",
       "  [605 ,    3]  =  32.3267\n",
       "  [655 ,    3]  =  76.6224\n",
       "  [963 ,    3]  =  12.3597\n",
       "  [990 ,    3]  =  61.6492\n",
       "  ⋮\n",
       "  [5498, 7966]  =  1.37766\n",
       "  [7421, 7967]  =  2.37487\n",
       "  [6281, 7968]  =  3.10948\n",
       "  [5465, 7969]  =  2.10211\n",
       "  [5471, 7969]  =  2.11223\n",
       "  [5981, 7969]  =  2.07701\n",
       "  [6696, 7969]  =  2.05488\n",
       "  [6602, 7970]  =  3.10492\n",
       "  [6798, 7970]  =  2.98907\n",
       "  [5486, 7971]  =  1.93967\n",
       "  [7018, 7971]  =  1.8471"
      ]
     },
     "execution_count": 30,
     "metadata": {},
     "output_type": "execute_result"
    }
   ],
   "source": [
    "JLfac=4.0\n",
    "matrixConcConst=4.0\n",
    "ep=4\n",
    "f = approxCholLap(a,tol=1e-2);\n",
    "\n",
    "n = size(a,1)\n",
    "k = round(Int, JLfac*log(n)) # number of dims for JL\n",
    "\n",
    "U = wtedEdgeVertexMat(a)\n",
    "m = size(U,1)\n",
    "R = randn(m,k)\n",
    "UR = U'*R;\n",
    "\n",
    "V = zeros(n,k)\n",
    "for i in 1:k\n",
    "V[:,i] = f(UR[:,i])\n",
    "end\n",
    "\n",
    "(ai,aj,av) = findnz(triu(a))\n",
    "prs = zeros(av)\n",
    "for h in 1:length(av)\n",
    "  i = ai[h]\n",
    "  j = aj[h]\n",
    "  prs[h] = min(1,av[h]* (norm(V[i,:]-V[j,:])^2/k) * matrixConcConst *log(n)/ep^2)\n",
    "end\n",
    "\n",
    "ind = rand(size(prs)) .< prs\n",
    "\n",
    "as = sparse(ai[ind],aj[ind],av[ind]./prs[ind],n,n)\n",
    "as = as + as'"
   ]
  },
  {
   "cell_type": "code",
   "execution_count": 31,
   "metadata": {},
   "outputs": [
    {
     "data": {
      "text/plain": [
       "([30, 31, 6, 23, 67, 14, 12, 10, 5, 59  …  7421, 6281, 5465, 5471, 5981, 6696, 6602, 6798, 5486, 7018], [78, 78, 83, 90, 106, 118, 120, 132, 135, 159  …  7967, 7968, 7969, 7969, 7969, 7969, 7970, 7970, 7971, 7971], [2.99687, 3.0494, 190.592, 85.6267, 124.133, 58.6986, 22.1816, 4.39583, 8.35211, 12.24  …  2.37487, 3.10948, 2.10211, 2.11223, 2.07701, 2.05488, 3.10492, 2.98907, 1.93967, 1.8471])"
      ]
     },
     "execution_count": 31,
     "metadata": {},
     "output_type": "execute_result"
    }
   ],
   "source": [
    "(ai,aj,av) = findnz(triu(as))"
   ]
  },
  {
   "cell_type": "code",
   "execution_count": 32,
   "metadata": {},
   "outputs": [
    {
     "data": {
      "text/plain": [
       "17709-element Array{Int64,1}:\n",
       "   77\n",
       "   77\n",
       "   82\n",
       "   89\n",
       "  105\n",
       "  117\n",
       "  119\n",
       "  131\n",
       "  134\n",
       "  158\n",
       "  158\n",
       "  161\n",
       "  167\n",
       "    ⋮\n",
       " 7964\n",
       " 7965\n",
       " 7966\n",
       " 7967\n",
       " 7968\n",
       " 7968\n",
       " 7968\n",
       " 7968\n",
       " 7969\n",
       " 7969\n",
       " 7970\n",
       " 7970"
      ]
     },
     "execution_count": 32,
     "metadata": {},
     "output_type": "execute_result"
    }
   ],
   "source": [
    "ai = ai - 1\n",
    "aj = aj - 1"
   ]
  },
  {
   "cell_type": "code",
   "execution_count": 33,
   "metadata": {},
   "outputs": [
    {
     "data": {
      "text/plain": [
       "(77, 0, 7970, 7970)"
      ]
     },
     "execution_count": 33,
     "metadata": {},
     "output_type": "execute_result"
    }
   ],
   "source": [
    "minimum(aj),minimum(ai),maximum(aj),maximum(aj),"
   ]
  },
  {
   "cell_type": "code",
   "execution_count": 34,
   "metadata": {},
   "outputs": [],
   "source": [
    "fh = open(\"datasets/flip/flickr/Gsym_sp.csv\",\"w\")\n",
    "  for i in 1:length(ai)\n",
    "    write(fh, \"$(ai[i]),$(aj[i]),$(av[i])\\n\")\n",
    "    write(fh, \"$(aj[i]),$(ai[i]),$(av[i])\\n\")\n",
    "  end\n",
    "close(fh)"
   ]
  },
  {
   "cell_type": "code",
   "execution_count": null,
   "metadata": {},
   "outputs": [],
   "source": []
  }
 ],
 "metadata": {
  "kernelspec": {
   "display_name": "Julia 0.6.2",
   "language": "julia",
   "name": "julia-0.6"
  },
  "language_info": {
   "file_extension": ".jl",
   "mimetype": "application/julia",
   "name": "julia",
   "version": "0.6.2"
  }
 },
 "nbformat": 4,
 "nbformat_minor": 2
}
