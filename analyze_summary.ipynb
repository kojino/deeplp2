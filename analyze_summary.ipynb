{
 "cells": [
  {
   "cell_type": "code",
   "execution_count": 2,
   "metadata": {},
   "outputs": [],
   "source": [
    "import pandas as pd\n",
    "import numpy as np"
   ]
  },
  {
   "cell_type": "code",
   "execution_count": 3,
   "metadata": {},
   "outputs": [],
   "source": [
    "lines = tuple(open('summary/grep.txt', 'r'))"
   ]
  },
  {
   "cell_type": "code",
   "execution_count": 4,
   "metadata": {},
   "outputs": [],
   "source": [
    "cols = ['lamda','split','t','acc','valacc','loss','a','b','obj']"
   ]
  },
  {
   "cell_type": "code",
   "execution_count": 5,
   "metadata": {},
   "outputs": [],
   "source": [
    "ress = []\n",
    "for i in range(int(len(lines)/3)):\n",
    "    a = lines[3*i].split('_')[2:-1]\n",
    "    b = lines[3*i+1].split(',')\n",
    "    res = a+b\n",
    "    res = [float(el) for el in res]\n",
    "    ress.append(res)"
   ]
  },
  {
   "cell_type": "code",
   "execution_count": 6,
   "metadata": {},
   "outputs": [],
   "source": [
    "df = pd.DataFrame(ress, columns=cols)"
   ]
  },
  {
   "cell_type": "code",
   "execution_count": 7,
   "metadata": {},
   "outputs": [
    {
     "data": {
      "text/html": [
       "<div>\n",
       "<style scoped>\n",
       "    .dataframe tbody tr th:only-of-type {\n",
       "        vertical-align: middle;\n",
       "    }\n",
       "\n",
       "    .dataframe tbody tr th {\n",
       "        vertical-align: top;\n",
       "    }\n",
       "\n",
       "    .dataframe thead th {\n",
       "        text-align: right;\n",
       "    }\n",
       "</style>\n",
       "<table border=\"1\" class=\"dataframe\">\n",
       "  <thead>\n",
       "    <tr style=\"text-align: right;\">\n",
       "      <th></th>\n",
       "      <th>lamda</th>\n",
       "      <th>split</th>\n",
       "      <th>t</th>\n",
       "      <th>acc</th>\n",
       "      <th>valacc</th>\n",
       "      <th>loss</th>\n",
       "      <th>a</th>\n",
       "      <th>b</th>\n",
       "      <th>obj</th>\n",
       "    </tr>\n",
       "  </thead>\n",
       "  <tbody>\n",
       "    <tr>\n",
       "      <th>0</th>\n",
       "      <td>-10.0</td>\n",
       "      <td>0.0</td>\n",
       "      <td>100.0</td>\n",
       "      <td>0.698780</td>\n",
       "      <td>17.399593</td>\n",
       "      <td>0.132207</td>\n",
       "      <td>0.000585</td>\n",
       "      <td>0.001081</td>\n",
       "      <td>0.120692</td>\n",
       "    </tr>\n",
       "    <tr>\n",
       "      <th>100</th>\n",
       "      <td>-12.0</td>\n",
       "      <td>0.0</td>\n",
       "      <td>100.0</td>\n",
       "      <td>0.696341</td>\n",
       "      <td>17.359756</td>\n",
       "      <td>0.137930</td>\n",
       "      <td>0.000486</td>\n",
       "      <td>0.006577</td>\n",
       "      <td>0.110449</td>\n",
       "    </tr>\n",
       "    <tr>\n",
       "      <th>200</th>\n",
       "      <td>-14.0</td>\n",
       "      <td>0.0</td>\n",
       "      <td>100.0</td>\n",
       "      <td>0.717480</td>\n",
       "      <td>17.892277</td>\n",
       "      <td>0.125472</td>\n",
       "      <td>0.000475</td>\n",
       "      <td>0.009255</td>\n",
       "      <td>0.099372</td>\n",
       "    </tr>\n",
       "    <tr>\n",
       "      <th>300</th>\n",
       "      <td>-2.0</td>\n",
       "      <td>0.0</td>\n",
       "      <td>100.0</td>\n",
       "      <td>0.533740</td>\n",
       "      <td>13.179675</td>\n",
       "      <td>0.183612</td>\n",
       "      <td>0.000351</td>\n",
       "      <td>0.000008</td>\n",
       "      <td>0.202737</td>\n",
       "    </tr>\n",
       "    <tr>\n",
       "      <th>400</th>\n",
       "      <td>-4.0</td>\n",
       "      <td>0.0</td>\n",
       "      <td>100.0</td>\n",
       "      <td>0.635366</td>\n",
       "      <td>15.802439</td>\n",
       "      <td>0.145154</td>\n",
       "      <td>0.000613</td>\n",
       "      <td>0.000032</td>\n",
       "      <td>0.182060</td>\n",
       "    </tr>\n",
       "    <tr>\n",
       "      <th>500</th>\n",
       "      <td>-6.0</td>\n",
       "      <td>0.0</td>\n",
       "      <td>100.0</td>\n",
       "      <td>0.684146</td>\n",
       "      <td>17.075203</td>\n",
       "      <td>0.133171</td>\n",
       "      <td>0.000630</td>\n",
       "      <td>0.000065</td>\n",
       "      <td>0.150123</td>\n",
       "    </tr>\n",
       "    <tr>\n",
       "      <th>600</th>\n",
       "      <td>-8.0</td>\n",
       "      <td>0.0</td>\n",
       "      <td>100.0</td>\n",
       "      <td>0.708130</td>\n",
       "      <td>17.556503</td>\n",
       "      <td>0.130977</td>\n",
       "      <td>0.000621</td>\n",
       "      <td>0.000001</td>\n",
       "      <td>0.131096</td>\n",
       "    </tr>\n",
       "    <tr>\n",
       "      <th>700</th>\n",
       "      <td>0.0</td>\n",
       "      <td>0.0</td>\n",
       "      <td>100.0</td>\n",
       "      <td>0.521951</td>\n",
       "      <td>12.753252</td>\n",
       "      <td>0.183057</td>\n",
       "      <td>0.000378</td>\n",
       "      <td>0.000038</td>\n",
       "      <td>0.209510</td>\n",
       "    </tr>\n",
       "    <tr>\n",
       "      <th>800</th>\n",
       "      <td>2.0</td>\n",
       "      <td>0.0</td>\n",
       "      <td>100.0</td>\n",
       "      <td>0.508537</td>\n",
       "      <td>12.550813</td>\n",
       "      <td>0.183552</td>\n",
       "      <td>0.000385</td>\n",
       "      <td>0.000051</td>\n",
       "      <td>0.231038</td>\n",
       "    </tr>\n",
       "  </tbody>\n",
       "</table>\n",
       "</div>"
      ],
      "text/plain": [
       "     lamda  split      t       acc     valacc      loss         a         b  \\\n",
       "0    -10.0    0.0  100.0  0.698780  17.399593  0.132207  0.000585  0.001081   \n",
       "100  -12.0    0.0  100.0  0.696341  17.359756  0.137930  0.000486  0.006577   \n",
       "200  -14.0    0.0  100.0  0.717480  17.892277  0.125472  0.000475  0.009255   \n",
       "300   -2.0    0.0  100.0  0.533740  13.179675  0.183612  0.000351  0.000008   \n",
       "400   -4.0    0.0  100.0  0.635366  15.802439  0.145154  0.000613  0.000032   \n",
       "500   -6.0    0.0  100.0  0.684146  17.075203  0.133171  0.000630  0.000065   \n",
       "600   -8.0    0.0  100.0  0.708130  17.556503  0.130977  0.000621  0.000001   \n",
       "700    0.0    0.0  100.0  0.521951  12.753252  0.183057  0.000378  0.000038   \n",
       "800    2.0    0.0  100.0  0.508537  12.550813  0.183552  0.000385  0.000051   \n",
       "\n",
       "          obj  \n",
       "0    0.120692  \n",
       "100  0.110449  \n",
       "200  0.099372  \n",
       "300  0.202737  \n",
       "400  0.182060  \n",
       "500  0.150123  \n",
       "600  0.131096  \n",
       "700  0.209510  \n",
       "800  0.231038  "
      ]
     },
     "execution_count": 7,
     "metadata": {},
     "output_type": "execute_result"
    }
   ],
   "source": [
    "df[(df.split==0) & (df.t==100)]"
   ]
  },
  {
   "cell_type": "code",
   "execution_count": 10,
   "metadata": {},
   "outputs": [],
   "source": [
    "df.groupby(['split','t'])['acc'].max().reset_index().to_csv(\"t_splits_acc.csv\")"
   ]
  },
  {
   "cell_type": "code",
   "execution_count": 18,
   "metadata": {},
   "outputs": [],
   "source": [
    "df.to_csv(\"t.csv\")"
   ]
  },
  {
   "cell_type": "code",
   "execution_count": null,
   "metadata": {},
   "outputs": [],
   "source": [
    "lines = tuple(open('summary/grep.txt', 'r'))"
   ]
  }
 ],
 "metadata": {
  "kernelspec": {
   "display_name": "ml",
   "language": "python",
   "name": "ml"
  },
  "language_info": {
   "codemirror_mode": {
    "name": "ipython",
    "version": 3
   },
   "file_extension": ".py",
   "mimetype": "text/x-python",
   "name": "python",
   "nbconvert_exporter": "python",
   "pygments_lexer": "ipython3",
   "version": "3.6.3"
  }
 },
 "nbformat": 4,
 "nbformat_minor": 2
}
