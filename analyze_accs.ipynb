{
 "cells": [
  {
   "cell_type": "code",
   "execution_count": 1,
   "metadata": {},
   "outputs": [],
   "source": [
    "import numpy as np\n",
    "import pandas as pd"
   ]
  },
  {
   "cell_type": "code",
   "execution_count": 2,
   "metadata": {},
   "outputs": [],
   "source": [
    "regs = [-30.0, -16.0, -14.0, -12.0, -10.0, -8.0, -6.0, -4.0, -2.0, 0.0, 2.0, 4.0]"
   ]
  },
  {
   "cell_type": "code",
   "execution_count": 3,
   "metadata": {},
   "outputs": [],
   "source": [
    "df = pd.DataFrame(columns=['data','split','reg','cv','max_epoch','max_acc','last_epoch','last_acc'])\n",
    "root = '/Users/kojin/Dropbox/DeepLP Final Data/final'"
   ]
  },
  {
   "cell_type": "code",
   "execution_count": 42,
   "metadata": {},
   "outputs": [
    {
     "name": "stdout",
     "output_type": "stream",
     "text": [
      "0\n",
      "1\n",
      "2\n",
      "3\n",
      "4\n",
      "5\n",
      "6\n",
      "7\n"
     ]
    },
    {
     "name": "stderr",
     "output_type": "stream",
     "text": [
      "/Users/kojin/anaconda/envs/ml/lib/python3.6/site-packages/ipykernel_launcher.py:8: UserWarning: loadtxt: Empty input file: \"/Users/kojin/Dropbox/DeepLP Final Data/final/accs_cora_citeseer/data=citeseer:regularize_theta=-6.0:split_seed=7:this_crossval_k=3.csv\"\n",
      "  \n"
     ]
    },
    {
     "name": "stdout",
     "output_type": "stream",
     "text": [
      "8\n",
      "9\n"
     ]
    }
   ],
   "source": [
    "i=0\n",
    "for data in ['citeseer']:\n",
    "    for split in range(10):\n",
    "        print(split)\n",
    "        for reg in regs:\n",
    "            for cv in range(5):\n",
    "                try:\n",
    "                    val_acc = np.loadtxt(f'{root}/accs_cora_citeseer/data={data}:regularize_theta={reg}:split_seed={split}:this_crossval_k={cv}.csv',delimiter=',')[:,1]\n",
    "                    i += 1\n",
    "                except:\n",
    "                    next\n",
    "                max_epoch = np.argmax(val_acc)\n",
    "                max_acc = val_acc[max_epoch]\n",
    "                last_epoch = len(val_acc) - 1\n",
    "                last_acc = val_acc[last_epoch]\n",
    "                \n",
    "                df.loc[i] = [data,split,reg,cv,max_epoch,max_acc,last_epoch,last_acc]"
   ]
  },
  {
   "cell_type": "code",
   "execution_count": 43,
   "metadata": {},
   "outputs": [],
   "source": [
    "df_new = df[df.last_epoch > 100]\n",
    "idx = df_new.groupby(['data','split'])['last_acc'].transform(max) == df_new['last_acc']\n",
    "optdf = df_new[idx]"
   ]
  },
  {
   "cell_type": "code",
   "execution_count": 44,
   "metadata": {},
   "outputs": [],
   "source": [
    "i = 0\n",
    "final_df = pd.DataFrame(columns=['data','split','reg','train_acc','val_acc'])\n",
    "for data in ['citeseer']:\n",
    "    for split in range(10):\n",
    "        for reg in regs:\n",
    "            try:\n",
    "                train_acc = np.loadtxt(f'{root}/accs_cora_citeseer/data={data}:regularize_theta={reg}:split_seed={split}.csv',delimiter=',')[:,1]\n",
    "                final_df.loc[i] = [data,split,reg,train_acc[-1],df_new[(df_new.data==data) & (df_new.split==split) & (df_new.reg==reg)]['last_acc'].mean()]\n",
    "                i+=1\n",
    "            except:\n",
    "                next"
   ]
  },
  {
   "cell_type": "code",
   "execution_count": 45,
   "metadata": {},
   "outputs": [
    {
     "data": {
      "text/plain": [
       "0.562304"
      ]
     },
     "execution_count": 45,
     "metadata": {},
     "output_type": "execute_result"
    }
   ],
   "source": [
    "final_df[final_df.groupby(['data','split'])['val_acc'].transform(max) == final_df['val_acc']]['train_acc'].mean()"
   ]
  },
  {
   "cell_type": "code",
   "execution_count": null,
   "metadata": {},
   "outputs": [],
   "source": []
  }
 ],
 "metadata": {
  "kernelspec": {
   "display_name": "ml",
   "language": "python",
   "name": "ml"
  },
  "language_info": {
   "codemirror_mode": {
    "name": "ipython",
    "version": 3
   },
   "file_extension": ".py",
   "mimetype": "text/x-python",
   "name": "python",
   "nbconvert_exporter": "python",
   "pygments_lexer": "ipython3",
   "version": "3.6.3"
  }
 },
 "nbformat": 4,
 "nbformat_minor": 2
}
