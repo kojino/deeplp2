{
 "cells": [
  {
   "cell_type": "code",
   "execution_count": 8,
   "metadata": {},
   "outputs": [],
   "source": [
    "import numpy as np\n",
    "from scipy.sparse import csr_matrix"
   ]
  },
  {
   "cell_type": "code",
   "execution_count": 33,
   "metadata": {},
   "outputs": [],
   "source": [
    "data='dblp'\n",
    "data_path = f'datasets/flip/{data}'\n",
    "graph = np.loadtxt(data_path+'/flip_dblp_Wdir.csv',delimiter=',')"
   ]
  },
  {
   "cell_type": "code",
   "execution_count": 34,
   "metadata": {},
   "outputs": [
    {
     "data": {
      "text/plain": [
       "array([[0.000e+00, 0.000e+00, 1.000e+00],\n",
       "       [5.720e+02, 0.000e+00, 2.000e+00],\n",
       "       [5.760e+02, 0.000e+00, 2.000e+00],\n",
       "       ...,\n",
       "       [7.180e+02, 5.313e+03, 2.000e+00],\n",
       "       [3.335e+03, 5.313e+03, 1.000e+00],\n",
       "       [5.313e+03, 5.313e+03, 1.000e+00]])"
      ]
     },
     "execution_count": 34,
     "metadata": {},
     "output_type": "execute_result"
    }
   ],
   "source": [
    "graph"
   ]
  },
  {
   "cell_type": "code",
   "execution_count": 35,
   "metadata": {},
   "outputs": [],
   "source": [
    "num_nodes = max(max(graph[:,0]),max(graph[:,1])) + 1\n",
    "graph_sp = csr_matrix((graph[:,2], (graph[:,0], graph[:,1])), shape=(num_nodes, num_nodes))\n"
   ]
  },
  {
   "cell_type": "code",
   "execution_count": 36,
   "metadata": {},
   "outputs": [],
   "source": [
    "dense = graph_sp.toarray()"
   ]
  },
  {
   "cell_type": "code",
   "execution_count": 37,
   "metadata": {},
   "outputs": [
    {
     "data": {
      "text/plain": [
       "True"
      ]
     },
     "execution_count": 37,
     "metadata": {},
     "output_type": "execute_result"
    }
   ],
   "source": [
    "np.all(dense == dense.T)"
   ]
  },
  {
   "cell_type": "code",
   "execution_count": 17,
   "metadata": {},
   "outputs": [
    {
     "name": "stdout",
     "output_type": "stream",
     "text": [
      "cora (2485,) (10138, 3) 7\n",
      "dblp (5314,) (38376, 3) 6\n",
      "dblp_bin (5314,) (38376, 3) 2\n",
      "flickr (7971,) (957960, 3) 7\n",
      "imdb (1122,) (74344, 3) 2\n",
      "industry (1890,) (22914, 3) 12\n"
     ]
    }
   ],
   "source": [
    "for data in ['cora','dblp','dblp_bin','flickr','imdb','industry']:\n",
    "    data_path = f'datasets/flip/{data}'\n",
    "    graph = np.loadtxt(data_path+'/Gdir.csv',delimiter=',')\n",
    "    y = np.loadtxt(data_path+'/y.csv',delimiter=',')\n",
    "    print(data,y.shape,graph.shape,len(np.unique(y)))"
   ]
  },
  {
   "cell_type": "code",
   "execution_count": 15,
   "metadata": {},
   "outputs": [
    {
     "data": {
      "text/plain": [
       "((1122,), (74344, 3), 2)"
      ]
     },
     "execution_count": 15,
     "metadata": {},
     "output_type": "execute_result"
    }
   ],
   "source": [
    "\n"
   ]
  },
  {
   "cell_type": "code",
   "execution_count": 9,
   "metadata": {},
   "outputs": [],
   "source": [
    "num_nodes = max(max(graph[:,0]),max(graph[:,1])) + 1\n",
    "graph_sp = csr_matrix((graph[:,2], (graph[:,0], graph[:,1])), shape=(num_nodes, num_nodes))\n"
   ]
  },
  {
   "cell_type": "code",
   "execution_count": 10,
   "metadata": {},
   "outputs": [
    {
     "data": {
      "text/plain": [
       "(1122, 1122)"
      ]
     },
     "execution_count": 10,
     "metadata": {},
     "output_type": "execute_result"
    }
   ],
   "source": [
    "graph_sp.shape"
   ]
  },
  {
   "cell_type": "code",
   "execution_count": null,
   "metadata": {},
   "outputs": [],
   "source": []
  }
 ],
 "metadata": {
  "kernelspec": {
   "display_name": "ml",
   "language": "python",
   "name": "ml"
  },
  "language_info": {
   "codemirror_mode": {
    "name": "ipython",
    "version": 3
   },
   "file_extension": ".py",
   "mimetype": "text/x-python",
   "name": "python",
   "nbconvert_exporter": "python",
   "pygments_lexer": "ipython3",
   "version": "3.6.3"
  }
 },
 "nbformat": 4,
 "nbformat_minor": 2
}
