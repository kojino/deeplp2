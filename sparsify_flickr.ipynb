{
 "cells": [
  {
   "cell_type": "code",
   "execution_count": 1,
   "metadata": {},
   "outputs": [
    {
     "name": "stderr",
     "output_type": "stream",
     "text": [
      "\u001b[1m\u001b[36mINFO: \u001b[39m\u001b[22m\u001b[36mCloning cache of ColorTypes from https://github.com/JuliaGraphics/ColorTypes.jl.git\n",
      "\u001b[39m\u001b[1m\u001b[36mINFO: \u001b[39m\u001b[22m\u001b[36mCloning cache of Colors from https://github.com/JuliaGraphics/Colors.jl.git\n",
      "\u001b[39m\u001b[1m\u001b[36mINFO: \u001b[39m\u001b[22m\u001b[36mCloning cache of FixedPointNumbers from https://github.com/JuliaMath/FixedPointNumbers.jl.git\n",
      "\u001b[39m\u001b[1m\u001b[36mINFO: \u001b[39m\u001b[22m\u001b[36mCloning cache of LaTeXStrings from https://github.com/stevengj/LaTeXStrings.jl.git\n",
      "\u001b[39m\u001b[1m\u001b[36mINFO: \u001b[39m\u001b[22m\u001b[36mCloning cache of MacroTools from https://github.com/MikeInnes/MacroTools.jl.git\n",
      "\u001b[39m\u001b[1m\u001b[36mINFO: \u001b[39m\u001b[22m\u001b[36mCloning cache of PyCall from https://github.com/JuliaPy/PyCall.jl.git\n",
      "\u001b[39m\u001b[1m\u001b[36mINFO: \u001b[39m\u001b[22m\u001b[36mCloning cache of PyPlot from https://github.com/JuliaPy/PyPlot.jl.git\n",
      "\u001b[39m\u001b[1m\u001b[36mINFO: \u001b[39m\u001b[22m\u001b[36mCloning cache of Reexport from https://github.com/simonster/Reexport.jl.git\n",
      "\u001b[39m\u001b[1m\u001b[36mINFO: \u001b[39m\u001b[22m\u001b[36mCloning cache of VersionParsing from https://github.com/stevengj/VersionParsing.jl.git\n",
      "\u001b[39m\u001b[1m\u001b[36mINFO: \u001b[39m\u001b[22m\u001b[36mInstalling ColorTypes v0.6.7\n",
      "\u001b[39m\u001b[1m\u001b[36mINFO: \u001b[39m\u001b[22m\u001b[36mInstalling Colors v0.8.2\n",
      "\u001b[39m\u001b[1m\u001b[36mINFO: \u001b[39m\u001b[22m\u001b[36mInstalling FixedPointNumbers v0.4.6\n",
      "\u001b[39m\u001b[1m\u001b[36mINFO: \u001b[39m\u001b[22m\u001b[36mInstalling LaTeXStrings v0.3.0\n",
      "\u001b[39m\u001b[1m\u001b[36mINFO: \u001b[39m\u001b[22m\u001b[36mInstalling MacroTools v0.4.0\n",
      "\u001b[39m\u001b[1m\u001b[36mINFO: \u001b[39m\u001b[22m\u001b[36mInstalling PyCall v1.16.1\n",
      "\u001b[39m\u001b[1m\u001b[36mINFO: \u001b[39m\u001b[22m\u001b[36mInstalling PyPlot v2.5.0\n",
      "\u001b[39m\u001b[1m\u001b[36mINFO: \u001b[39m\u001b[22m\u001b[36mInstalling Reexport v0.1.0\n",
      "\u001b[39m\u001b[1m\u001b[36mINFO: \u001b[39m\u001b[22m\u001b[36mInstalling VersionParsing v1.1.0\n",
      "\u001b[39m\u001b[1m\u001b[36mINFO: \u001b[39m\u001b[22m\u001b[36mBuilding Conda\n",
      "\u001b[39m\u001b[1m\u001b[36mINFO: \u001b[39m\u001b[22m\u001b[36mBuilding PyCall\n",
      "\u001b[39m\u001b[1m\u001b[36mInfo: \u001b[39m\u001b[22m\u001b[36mUsing the Python distribution in the Conda package by default.\n",
      "To use a different Python version, set ENV[\"PYTHON\"]=\"pythoncommand\" and re-run Pkg.build(\"PyCall\").\n",
      "\u001b[39m"
     ]
    },
    {
     "name": "stdout",
     "output_type": "stream",
     "text": [
      "Solving environment: ...working... done\n"
     ]
    },
    {
     "name": "stderr",
     "output_type": "stream",
     "text": [
      "mkl 2018.0.2########## | 100% \n",
      "mkl_random 1.0.1########## | 100% \n",
      "mkl_fft 1.0.1########## | 100% \n",
      "numpy 1.14.2########## | 100% \n",
      "libgfortran 3.0.1########## | 100% \n",
      "intel-openmp 2018.0.0#######5   |  75% "
     ]
    },
    {
     "name": "stdout",
     "output_type": "stream",
     "text": [
      "\n",
      "## Package Plan ##\n",
      "\n",
      "  environment location: /Users/kojin/.julia/v0.6/Conda/deps/usr\n",
      "\n",
      "  added / updated specs: \n",
      "    - numpy\n",
      "\n",
      "\n",
      "The following packages will be downloaded:\n",
      "\n",
      "    package                    |            build\n",
      "    ---------------------------|-----------------\n",
      "    mkl-2018.0.2               |                1       145.9 MB\n",
      "    mkl_random-1.0.1           |   py27h78cc56f_0         355 KB\n",
      "    mkl_fft-1.0.1              |   py27h917ab60_0         130 KB\n",
      "    numpy-1.14.2               |   py27ha9ae307_1         3.9 MB\n",
      "    libgfortran-3.0.1          |       h93005f0_2         495 KB\n",
      "    intel-openmp-2018.0.0      |                8         904 KB\n",
      "    ------------------------------------------------------------\n",
      "                                           Total:       151.7 MB\n",
      "\n",
      "The following NEW packages will be INSTALLED:\n",
      "\n",
      "    intel-openmp: 2018.0.0-8           \n",
      "    libgfortran:  3.0.1-h93005f0_2     \n",
      "    mkl:          2018.0.2-1           \n",
      "    mkl_fft:      1.0.1-py27h917ab60_0 \n",
      "    mkl_random:   1.0.1-py27h78cc56f_0 \n",
      "    numpy:        1.14.2-py27ha9ae307_1\n",
      "\n",
      "\n",
      "Downloading and Extracting Packages\n",
      "Preparing transaction: ...working... "
     ]
    },
    {
     "name": "stderr",
     "output_type": "stream",
     "text": [
      "\r",
      "intel-openmp 2018.0.0########## | 100% \n"
     ]
    },
    {
     "name": "stdout",
     "output_type": "stream",
     "text": [
      "done\n",
      "Verifying transaction: ...working... done\n",
      "Executing transaction: ...working... done\n"
     ]
    },
    {
     "name": "stderr",
     "output_type": "stream",
     "text": [
      "\u001b[1m\u001b[36mInfo: \u001b[39m\u001b[22m\u001b[36mPyCall is using /Users/kojin/.julia/v0.6/Conda/deps/usr/bin/python (Python 2.7.14) at /Users/kojin/.julia/v0.6/Conda/deps/usr/bin/python, libpython = /Users/kojin/.julia/v0.6/Conda/deps/usr/lib/libpython2.7\n",
      "\u001b[39m\u001b[1m\u001b[36mInfo: \u001b[39m\u001b[22m\u001b[36m/Users/kojin/.julia/v0.6/PyCall/deps/deps.jl has been updated\n",
      "\u001b[39m\u001b[1m\u001b[36mInfo: \u001b[39m\u001b[22m\u001b[36m/Users/kojin/.julia/v0.6/PyCall/deps/PYTHON has been updated\n",
      "\u001b[39m\u001b[1m\u001b[36mINFO: \u001b[39m\u001b[22m\u001b[36mPackage database updated\n",
      "\u001b[39m"
     ]
    }
   ],
   "source": [
    "Pkg.add(\"PyPlot\")"
   ]
  },
  {
   "cell_type": "code",
   "execution_count": 8,
   "metadata": {},
   "outputs": [
    {
     "name": "stderr",
     "output_type": "stream",
     "text": [
      "\u001b[1m\u001b[36mINFO: \u001b[39m\u001b[22m\u001b[36mPackage Laplacians is already installed\n",
      "\u001b[39m\u001b[1m\u001b[36mINFO: \u001b[39m\u001b[22m\u001b[36mCloning cache of AxisAlgorithms from https://github.com/timholy/AxisAlgorithms.jl.git\n",
      "\u001b[39m\u001b[1m\u001b[36mINFO: \u001b[39m\u001b[22m\u001b[36mCloning cache of Calculus from https://github.com/JuliaMath/Calculus.jl.git\n",
      "\u001b[39m\u001b[1m\u001b[36mINFO: \u001b[39m\u001b[22m\u001b[36mCloning cache of CommonSubexpressions from https://github.com/rdeits/CommonSubexpressions.jl.git\n",
      "\u001b[39m\u001b[1m\u001b[36mINFO: \u001b[39m\u001b[22m\u001b[36mCloning cache of Compose from https://github.com/GiovineItalia/Compose.jl.git\n",
      "\u001b[39m\u001b[1m\u001b[36mINFO: \u001b[39m\u001b[22m\u001b[36mCloning cache of Contour from https://github.com/JuliaGeometry/Contour.jl.git\n",
      "\u001b[39m\u001b[1m\u001b[36mINFO: \u001b[39m\u001b[22m\u001b[36mCloning cache of CoupledFields from https://github.com/Mattriks/CoupledFields.jl.git\n",
      "\u001b[39m\u001b[1m\u001b[36mINFO: \u001b[39m\u001b[22m\u001b[36mCloning cache of DataArrays from https://github.com/JuliaStats/DataArrays.jl.git\n",
      "\u001b[39m\u001b[1m\u001b[36mINFO: \u001b[39m\u001b[22m\u001b[36mCloning cache of DataFrames from https://github.com/JuliaData/DataFrames.jl.git\n",
      "\u001b[39m\u001b[1m\u001b[36mINFO: \u001b[39m\u001b[22m\u001b[36mCloning cache of DiffEqDiffTools from https://github.com/JuliaDiffEq/DiffEqDiffTools.jl.git\n",
      "\u001b[39m\u001b[1m\u001b[36mINFO: \u001b[39m\u001b[22m\u001b[36mCloning cache of DiffResults from https://github.com/JuliaDiff/DiffResults.jl.git\n",
      "\u001b[39m\u001b[1m\u001b[36mINFO: \u001b[39m\u001b[22m\u001b[36mCloning cache of DiffRules from https://github.com/JuliaDiff/DiffRules.jl.git\n",
      "\u001b[39m\u001b[1m\u001b[36mINFO: \u001b[39m\u001b[22m\u001b[36mCloning cache of Distances from https://github.com/JuliaStats/Distances.jl.git\n",
      "\u001b[39m\u001b[1m\u001b[36mINFO: \u001b[39m\u001b[22m\u001b[36mCloning cache of Distributions from https://github.com/JuliaStats/Distributions.jl.git\n",
      "\u001b[39m\u001b[1m\u001b[36mINFO: \u001b[39m\u001b[22m\u001b[36mCloning cache of DualNumbers from https://github.com/JuliaDiff/DualNumbers.jl.git\n",
      "\u001b[39m\u001b[1m\u001b[36mINFO: \u001b[39m\u001b[22m\u001b[36mCloning cache of FileIO from https://github.com/JuliaIO/FileIO.jl.git\n",
      "\u001b[39m\u001b[1m\u001b[36mINFO: \u001b[39m\u001b[22m\u001b[36mCloning cache of ForwardDiff from https://github.com/JuliaDiff/ForwardDiff.jl.git\n",
      "\u001b[39m\u001b[1m\u001b[36mINFO: \u001b[39m\u001b[22m\u001b[36mCloning cache of GZip from https://github.com/JuliaIO/GZip.jl.git\n",
      "\u001b[39m\u001b[1m\u001b[36mINFO: \u001b[39m\u001b[22m\u001b[36mCloning cache of Gadfly from https://github.com/GiovineItalia/Gadfly.jl.git\n",
      "\u001b[39m\u001b[1m\u001b[36mINFO: \u001b[39m\u001b[22m\u001b[36mCloning cache of Hexagons from https://github.com/GiovineItalia/Hexagons.jl.git\n",
      "\u001b[39m\u001b[1m\u001b[36mINFO: \u001b[39m\u001b[22m\u001b[36mCloning cache of Interpolations from https://github.com/JuliaMath/Interpolations.jl.git\n",
      "\u001b[39m\u001b[1m\u001b[36mINFO: \u001b[39m\u001b[22m\u001b[36mCloning cache of IterTools from https://github.com/JuliaCollections/IterTools.jl.git\n",
      "\u001b[39m\u001b[1m\u001b[36mINFO: \u001b[39m\u001b[22m\u001b[36mCloning cache of Juno from https://github.com/JunoLab/Juno.jl.git\n",
      "\u001b[39m\u001b[1m\u001b[36mINFO: \u001b[39m\u001b[22m\u001b[36mCloning cache of KernelDensity from https://github.com/JuliaStats/KernelDensity.jl.git\n",
      "\u001b[39m\u001b[1m\u001b[36mINFO: \u001b[39m\u001b[22m\u001b[36mCloning cache of LineSearches from https://github.com/JuliaNLSolvers/LineSearches.jl.git\n",
      "\u001b[39m\u001b[1m\u001b[36mINFO: \u001b[39m\u001b[22m\u001b[36mCloning cache of Loess from https://github.com/JuliaStats/Loess.jl.git\n",
      "\u001b[39m\u001b[1m\u001b[36mINFO: \u001b[39m\u001b[22m\u001b[36mCloning cache of Measures from https://github.com/JuliaGraphics/Measures.jl.git\n",
      "\u001b[39m\u001b[1m\u001b[36mINFO: \u001b[39m\u001b[22m\u001b[36mCloning cache of Media from https://github.com/JunoLab/Media.jl.git\n",
      "\u001b[39m\u001b[1m\u001b[36mINFO: \u001b[39m\u001b[22m\u001b[36mCloning cache of Missings from https://github.com/JuliaData/Missings.jl.git\n",
      "\u001b[39m\u001b[1m\u001b[36mINFO: \u001b[39m\u001b[22m\u001b[36mCloning cache of NLSolversBase from https://github.com/JuliaNLSolvers/NLSolversBase.jl.git\n",
      "\u001b[39m\u001b[1m\u001b[36mINFO: \u001b[39m\u001b[22m\u001b[36mCloning cache of NaNMath from https://github.com/mlubin/NaNMath.jl.git\n",
      "\u001b[39m\u001b[1m\u001b[36mINFO: \u001b[39m\u001b[22m\u001b[36mCloning cache of Optim from https://github.com/JuliaNLSolvers/Optim.jl.git\n",
      "\u001b[39m\u001b[1m\u001b[36mINFO: \u001b[39m\u001b[22m\u001b[36mCloning cache of PDMats from https://github.com/JuliaStats/PDMats.jl.git\n",
      "\u001b[39m\u001b[1m\u001b[36mINFO: \u001b[39m\u001b[22m\u001b[36mCloning cache of Parameters from https://github.com/mauro3/Parameters.jl.git\n",
      "\u001b[39m\u001b[1m\u001b[36mINFO: \u001b[39m\u001b[22m\u001b[36mCloning cache of PositiveFactorizations from https://github.com/timholy/PositiveFactorizations.jl.git\n",
      "\u001b[39m\u001b[1m\u001b[36mINFO: \u001b[39m\u001b[22m\u001b[36mCloning cache of QuadGK from https://github.com/JuliaMath/QuadGK.jl.git\n",
      "\u001b[39m\u001b[1m\u001b[36mINFO: \u001b[39m\u001b[22m\u001b[36mCloning cache of Ratios from https://github.com/timholy/Ratios.jl.git\n",
      "\u001b[39m\u001b[1m\u001b[36mINFO: \u001b[39m\u001b[22m\u001b[36mCloning cache of Rmath from https://github.com/JuliaStats/Rmath.jl.git\n",
      "\u001b[39m\u001b[1m\u001b[36mINFO: \u001b[39m\u001b[22m\u001b[36mCloning cache of ShowItLikeYouBuildIt from https://github.com/JuliaArrays/ShowItLikeYouBuildIt.jl.git\n",
      "\u001b[39m\u001b[1m\u001b[36mINFO: \u001b[39m\u001b[22m\u001b[36mCloning cache of Showoff from https://github.com/JuliaGraphics/Showoff.jl.git\n",
      "\u001b[39m\u001b[1m\u001b[36mINFO: \u001b[39m\u001b[22m\u001b[36mCloning cache of SortingAlgorithms from https://github.com/JuliaCollections/SortingAlgorithms.jl.git\n",
      "\u001b[39m\u001b[1m\u001b[36mINFO: \u001b[39m\u001b[22m\u001b[36mCloning cache of SpecialFunctions from https://github.com/JuliaMath/SpecialFunctions.jl.git\n",
      "\u001b[39m\u001b[1m\u001b[36mINFO: \u001b[39m\u001b[22m\u001b[36mCloning cache of StaticArrays from https://github.com/JuliaArrays/StaticArrays.jl.git\n",
      "\u001b[39m\u001b[1m\u001b[36mINFO: \u001b[39m\u001b[22m\u001b[36mCloning cache of StatsBase from https://github.com/JuliaStats/StatsBase.jl.git\n",
      "\u001b[39m\u001b[1m\u001b[36mINFO: \u001b[39m\u001b[22m\u001b[36mCloning cache of StatsFuns from https://github.com/JuliaStats/StatsFuns.jl.git\n",
      "\u001b[39m\u001b[1m\u001b[36mINFO: \u001b[39m\u001b[22m\u001b[36mCloning cache of WoodburyMatrices from https://github.com/timholy/WoodburyMatrices.jl.git\n",
      "\u001b[39m\u001b[1m\u001b[36mINFO: \u001b[39m\u001b[22m\u001b[36mInstalling AxisAlgorithms v0.2.0\n",
      "\u001b[39m\u001b[1m\u001b[36mINFO: \u001b[39m\u001b[22m\u001b[36mInstalling Calculus v0.3.1\n",
      "\u001b[39m\u001b[1m\u001b[36mINFO: \u001b[39m\u001b[22m\u001b[36mInstalling CommonSubexpressions v0.1.0\n",
      "\u001b[39m\u001b[1m\u001b[36mINFO: \u001b[39m\u001b[22m\u001b[36mInstalling Compose v0.5.5\n",
      "\u001b[39m\u001b[1m\u001b[36mINFO: \u001b[39m\u001b[22m\u001b[36mInstalling Contour v0.4.0\n",
      "\u001b[39m\u001b[1m\u001b[36mINFO: \u001b[39m\u001b[22m\u001b[36mInstalling CoupledFields v0.0.1\n",
      "\u001b[39m\u001b[1m\u001b[36mINFO: \u001b[39m\u001b[22m\u001b[36mInstalling DataArrays v0.6.2\n",
      "\u001b[39m\u001b[1m\u001b[36mINFO: \u001b[39m\u001b[22m\u001b[36mInstalling DataFrames v0.10.1\n",
      "\u001b[39m\u001b[1m\u001b[36mINFO: \u001b[39m\u001b[22m\u001b[36mInstalling DiffEqDiffTools v0.4.1\n",
      "\u001b[39m\u001b[1m\u001b[36mINFO: \u001b[39m\u001b[22m\u001b[36mInstalling DiffResults v0.0.3\n",
      "\u001b[39m\u001b[1m\u001b[36mINFO: \u001b[39m\u001b[22m\u001b[36mInstalling DiffRules v0.0.4\n",
      "\u001b[39m\u001b[1m\u001b[36mINFO: \u001b[39m\u001b[22m\u001b[36mInstalling Distances v0.6.0\n",
      "\u001b[39m\u001b[1m\u001b[36mINFO: \u001b[39m\u001b[22m\u001b[36mInstalling Distributions v0.15.0\n",
      "\u001b[39m\u001b[1m\u001b[36mINFO: \u001b[39m\u001b[22m\u001b[36mInstalling DualNumbers v0.3.0\n",
      "\u001b[39m\u001b[1m\u001b[36mINFO: \u001b[39m\u001b[22m\u001b[36mInstalling FileIO v0.7.0\n",
      "\u001b[39m\u001b[1m\u001b[36mINFO: \u001b[39m\u001b[22m\u001b[36mInstalling ForwardDiff v0.7.5\n",
      "\u001b[39m\u001b[1m\u001b[36mINFO: \u001b[39m\u001b[22m\u001b[36mInstalling GZip v0.3.0\n",
      "\u001b[39m\u001b[1m\u001b[36mINFO: \u001b[39m\u001b[22m\u001b[36mInstalling Gadfly v0.6.5\n",
      "\u001b[39m\u001b[1m\u001b[36mINFO: \u001b[39m\u001b[22m\u001b[36mInstalling Hexagons v0.1.0\n",
      "\u001b[39m\u001b[1m\u001b[36mINFO: \u001b[39m\u001b[22m\u001b[36mInstalling Interpolations v0.7.3\n",
      "\u001b[39m\u001b[1m\u001b[36mINFO: \u001b[39m\u001b[22m\u001b[36mInstalling IterTools v0.2.1\n",
      "\u001b[39m\u001b[1m\u001b[36mINFO: \u001b[39m\u001b[22m\u001b[36mInstalling Juno v0.4.0\n",
      "\u001b[39m\u001b[1m\u001b[36mINFO: \u001b[39m\u001b[22m\u001b[36mInstalling KernelDensity v0.4.1\n",
      "\u001b[39m\u001b[1m\u001b[36mINFO: \u001b[39m\u001b[22m\u001b[36mInstalling LineSearches v3.2.5\n",
      "\u001b[39m\u001b[1m\u001b[36mINFO: \u001b[39m\u001b[22m\u001b[36mInstalling Loess v0.3.0\n",
      "\u001b[39m\u001b[1m\u001b[36mINFO: \u001b[39m\u001b[22m\u001b[36mInstalling Measures v0.2.0\n",
      "\u001b[39m\u001b[1m\u001b[36mINFO: \u001b[39m\u001b[22m\u001b[36mInstalling Media v0.3.0\n",
      "\u001b[39m\u001b[1m\u001b[36mINFO: \u001b[39m\u001b[22m\u001b[36mInstalling Missings v0.2.9\n",
      "\u001b[39m\u001b[1m\u001b[36mINFO: \u001b[39m\u001b[22m\u001b[36mInstalling NLSolversBase v4.4.1\n",
      "\u001b[39m\u001b[1m\u001b[36mINFO: \u001b[39m\u001b[22m\u001b[36mInstalling NaNMath v0.3.1\n",
      "\u001b[39m\u001b[1m\u001b[36mINFO: \u001b[39m\u001b[22m\u001b[36mInstalling Optim v0.14.1\n",
      "\u001b[39m\u001b[1m\u001b[36mINFO: \u001b[39m\u001b[22m\u001b[36mInstalling PDMats v0.8.0\n",
      "\u001b[39m\u001b[1m\u001b[36mINFO: \u001b[39m\u001b[22m\u001b[36mInstalling Parameters v0.8.1\n",
      "\u001b[39m\u001b[1m\u001b[36mINFO: \u001b[39m\u001b[22m\u001b[36mInstalling PositiveFactorizations v0.1.0\n",
      "\u001b[39m\u001b[1m\u001b[36mINFO: \u001b[39m\u001b[22m\u001b[36mInstalling QuadGK v0.2.1\n",
      "\u001b[39m\u001b[1m\u001b[36mINFO: \u001b[39m\u001b[22m\u001b[36mInstalling Ratios v0.2.0\n",
      "\u001b[39m\u001b[1m\u001b[36mINFO: \u001b[39m\u001b[22m\u001b[36mInstalling Rmath v0.3.2\n",
      "\u001b[39m\u001b[1m\u001b[36mINFO: \u001b[39m\u001b[22m\u001b[36mInstalling ShowItLikeYouBuildIt v0.2.0\n",
      "\u001b[39m\u001b[1m\u001b[36mINFO: \u001b[39m\u001b[22m\u001b[36mInstalling Showoff v0.1.1\n",
      "\u001b[39m\u001b[1m\u001b[36mINFO: \u001b[39m\u001b[22m\u001b[36mInstalling SortingAlgorithms v0.2.1\n",
      "\u001b[39m\u001b[1m\u001b[36mINFO: \u001b[39m\u001b[22m\u001b[36mInstalling SpecialFunctions v0.4.0\n",
      "\u001b[39m\u001b[1m\u001b[36mINFO: \u001b[39m\u001b[22m\u001b[36mInstalling StaticArrays v0.7.0\n",
      "\u001b[39m\u001b[1m\u001b[36mINFO: \u001b[39m\u001b[22m\u001b[36mInstalling StatsBase v0.22.0\n",
      "\u001b[39m\u001b[1m\u001b[36mINFO: \u001b[39m\u001b[22m\u001b[36mInstalling StatsFuns v0.6.0\n",
      "\u001b[39m\u001b[1m\u001b[36mINFO: \u001b[39m\u001b[22m\u001b[36mInstalling WoodburyMatrices v0.2.2\n"
     ]
    },
    {
     "name": "stderr",
     "output_type": "stream",
     "text": [
      "\u001b[39m\u001b[1m\u001b[36mINFO: \u001b[39m\u001b[22m\u001b[36mBuilding SpecialFunctions\n",
      "\u001b[39m\u001b[1m\u001b[36mINFO: \u001b[39m\u001b[22m\u001b[36mBuilding Rmath\n",
      "\u001b[39m\u001b[1m\u001b[36mInfo: \u001b[39m\u001b[22m\u001b[36mAttempting to create directory /Users/kojin/.julia/v0.6/Rmath/deps/downloads\n",
      "\u001b[39m\u001b[1m\u001b[36mInfo: \u001b[39m\u001b[22m\u001b[36mDownloading file https://github.com/JuliaLang/Rmath-julia/archive/v0.2.0.tar.gz\n",
      "\u001b[39m  % Total    % Received % Xferd  Average Speed   Time    Time     Time  Current\n",
      "                                 Dload  Upload   Total   Spent    Left  Speed\n",
      "100   129    0   129    0     0    953      0 --:--:-- --:--:-- --:--:--   955\n",
      "100   130    0   130    0     0    592      0 --:--:-- --:--:-- --:--:-- 65000\n",
      "100  155k  100  155k    0     0   380k      0 --:--:-- --:--:-- --:--:--  380k\n",
      "\u001b[1m\u001b[36mInfo: \u001b[39m\u001b[22m\u001b[36mDone downloading file https://github.com/JuliaLang/Rmath-julia/archive/v0.2.0.tar.gz\n",
      "\u001b[39m\u001b[1m\u001b[36mInfo: \u001b[39m\u001b[22m\u001b[36mAttempting to create directory /Users/kojin/.julia/v0.6/Rmath/deps/src\n",
      "\u001b[39m\u001b[1m\u001b[36mInfo: \u001b[39m\u001b[22m\u001b[36mAttempting to create directory /Users/kojin/.julia/v0.6/Rmath/deps\n",
      "\u001b[39m\u001b[1m\u001b[36mInfo: \u001b[39m\u001b[22m\u001b[36mDirectory /Users/kojin/.julia/v0.6/Rmath/deps already exists\n",
      "\u001b[39m\u001b[1m\u001b[36mInfo: \u001b[39m\u001b[22m\u001b[36mAttempting to create directory /Users/kojin/.julia/v0.6/Rmath/deps/usr/lib\n",
      "\u001b[39m\u001b[1m\u001b[36mInfo: \u001b[39m\u001b[22m\u001b[36mChanging directory to /Users/kojin/.julia/v0.6/Rmath/deps/src/Rmath-julia-0.2.0\n",
      "\u001b[39m"
     ]
    },
    {
     "name": "stdout",
     "output_type": "stream",
     "text": [
      "/Applications/Xcode.app/Contents/Developer/usr/bin/make -C src\n",
      "gcc -D_FORTIFY_SOURCE=2 -mmacosx-version-min=10.9 -Wall -O3 -fPIC -DMATHLIB_STANDALONE -march=core2 -mtune=haswell -mssse3 -ftree-vectorize -fPIC -fPIE -fstack-protector-strong -O2 -pipe  -std=gnu99 -I../include -DNDEBUG -c bd0.c -o bd0.o\n",
      "gcc -D_FORTIFY_SOURCE=2 -mmacosx-version-min=10.9 -Wall -O3 -fPIC -DMATHLIB_STANDALONE -march=core2 -mtune=haswell -mssse3 -ftree-vectorize -fPIC -fPIE -fstack-protector-strong -O2 -pipe  -std=gnu99 -I../include -DNDEBUG -c bessel_i.c -o bessel_i.o\n",
      "gcc -D_FORTIFY_SOURCE=2 -mmacosx-version-min=10.9 -Wall -O3 -fPIC -DMATHLIB_STANDALONE -march=core2 -mtune=haswell -mssse3 -ftree-vectorize -fPIC -fPIE -fstack-protector-strong -O2 -pipe  -std=gnu99 -I../include -DNDEBUG -c bessel_j.c -o bessel_j.o\n",
      "gcc -D_FORTIFY_SOURCE=2 -mmacosx-version-min=10.9 -Wall -O3 -fPIC -DMATHLIB_STANDALONE -march=core2 -mtune=haswell -mssse3 -ftree-vectorize -fPIC -fPIE -fstack-protector-strong -O2 -pipe  -std=gnu99 -I../include -DNDEBUG -c bessel_k.c -o bessel_k.o\n",
      "gcc -D_FORTIFY_SOURCE=2 -mmacosx-version-min=10.9 -Wall -O3 -fPIC -DMATHLIB_STANDALONE -march=core2 -mtune=haswell -mssse3 -ftree-vectorize -fPIC -fPIE -fstack-protector-strong -O2 -pipe  -std=gnu99 -I../include -DNDEBUG -c bessel_y.c -o bessel_y.o\n",
      "gcc -D_FORTIFY_SOURCE=2 -mmacosx-version-min=10.9 -Wall -O3 -fPIC -DMATHLIB_STANDALONE -march=core2 -mtune=haswell -mssse3 -ftree-vectorize -fPIC -fPIE -fstack-protector-strong -O2 -pipe  -std=gnu99 -I../include -DNDEBUG -c beta.c -o beta.o\n",
      "gcc -D_FORTIFY_SOURCE=2 -mmacosx-version-min=10.9 -Wall -O3 -fPIC -DMATHLIB_STANDALONE -march=core2 -mtune=haswell -mssse3 -ftree-vectorize -fPIC -fPIE -fstack-protector-strong -O2 -pipe  -std=gnu99 -I../include -DNDEBUG -c callback.c -o callback.o\n",
      "gcc -D_FORTIFY_SOURCE=2 -mmacosx-version-min=10.9 -Wall -O3 -fPIC -DMATHLIB_STANDALONE -march=core2 -mtune=haswell -mssse3 -ftree-vectorize -fPIC -fPIE -fstack-protector-strong -O2 -pipe  -std=gnu99 -I../include -DNDEBUG -c chebyshev.c -o chebyshev.o\n",
      "gcc -D_FORTIFY_SOURCE=2 -mmacosx-version-min=10.9 -Wall -O3 -fPIC -DMATHLIB_STANDALONE -march=core2 -mtune=haswell -mssse3 -ftree-vectorize -fPIC -fPIE -fstack-protector-strong -O2 -pipe  -std=gnu99 -I../include -DNDEBUG -c choose.c -o choose.o\n",
      "gcc -D_FORTIFY_SOURCE=2 -mmacosx-version-min=10.9 -Wall -O3 -fPIC -DMATHLIB_STANDALONE -march=core2 -mtune=haswell -mssse3 -ftree-vectorize -fPIC -fPIE -fstack-protector-strong -O2 -pipe  -std=gnu99 -I../include -DNDEBUG -c cospi.c -o cospi.o\n",
      "gcc -D_FORTIFY_SOURCE=2 -mmacosx-version-min=10.9 -Wall -O3 -fPIC -DMATHLIB_STANDALONE -march=core2 -mtune=haswell -mssse3 -ftree-vectorize -fPIC -fPIE -fstack-protector-strong -O2 -pipe  -std=gnu99 -I../include -DNDEBUG -c d1mach.c -o d1mach.o\n",
      "gcc -D_FORTIFY_SOURCE=2 -mmacosx-version-min=10.9 -Wall -O3 -fPIC -DMATHLIB_STANDALONE -march=core2 -mtune=haswell -mssse3 -ftree-vectorize -fPIC -fPIE -fstack-protector-strong -O2 -pipe  -std=gnu99 -I../include -DNDEBUG -c dbeta.c -o dbeta.o\n",
      "gcc -D_FORTIFY_SOURCE=2 -mmacosx-version-min=10.9 -Wall -O3 -fPIC -DMATHLIB_STANDALONE -march=core2 -mtune=haswell -mssse3 -ftree-vectorize -fPIC -fPIE -fstack-protector-strong -O2 -pipe  -std=gnu99 -I../include -DNDEBUG -c dbinom.c -o dbinom.o\n",
      "gcc -D_FORTIFY_SOURCE=2 -mmacosx-version-min=10.9 -Wall -O3 -fPIC -DMATHLIB_STANDALONE -march=core2 -mtune=haswell -mssse3 -ftree-vectorize -fPIC -fPIE -fstack-protector-strong -O2 -pipe  -std=gnu99 -I../include -DNDEBUG -c dcauchy.c -o dcauchy.o\n",
      "gcc -D_FORTIFY_SOURCE=2 -mmacosx-version-min=10.9 -Wall -O3 -fPIC -DMATHLIB_STANDALONE -march=core2 -mtune=haswell -mssse3 -ftree-vectorize -fPIC -fPIE -fstack-protector-strong -O2 -pipe  -std=gnu99 -I../include -DNDEBUG -c dchisq.c -o dchisq.o\n",
      "gcc -D_FORTIFY_SOURCE=2 -mmacosx-version-min=10.9 -Wall -O3 -fPIC -DMATHLIB_STANDALONE -march=core2 -mtune=haswell -mssse3 -ftree-vectorize -fPIC -fPIE -fstack-protector-strong -O2 -pipe  -std=gnu99 -I../include -DNDEBUG -c dexp.c -o dexp.o\n",
      "gcc -D_FORTIFY_SOURCE=2 -mmacosx-version-min=10.9 -Wall -O3 -fPIC -DMATHLIB_STANDALONE -march=core2 -mtune=haswell -mssse3 -ftree-vectorize -fPIC -fPIE -fstack-protector-strong -O2 -pipe  -std=gnu99 -I../include -DNDEBUG -c df.c -o df.o\n",
      "gcc -D_FORTIFY_SOURCE=2 -mmacosx-version-min=10.9 -Wall -O3 -fPIC -DMATHLIB_STANDALONE -march=core2 -mtune=haswell -mssse3 -ftree-vectorize -fPIC -fPIE -fstack-protector-strong -O2 -pipe  -std=gnu99 -I../include -DNDEBUG -c dgamma.c -o dgamma.o\n",
      "gcc -D_FORTIFY_SOURCE=2 -mmacosx-version-min=10.9 -Wall -O3 -fPIC -DMATHLIB_STANDALONE -march=core2 -mtune=haswell -mssse3 -ftree-vectorize -fPIC -fPIE -fstack-protector-strong -O2 -pipe  -std=gnu99 -I../include -DNDEBUG -c dgeom.c -o dgeom.o\n",
      "gcc -D_FORTIFY_SOURCE=2 -mmacosx-version-min=10.9 -Wall -O3 -fPIC -DMATHLIB_STANDALONE -march=core2 -mtune=haswell -mssse3 -ftree-vectorize -fPIC -fPIE -fstack-protector-strong -O2 -pipe  -std=gnu99 -I../include -DNDEBUG -c dhyper.c -o dhyper.o\n",
      "gcc -D_FORTIFY_SOURCE=2 -mmacosx-version-min=10.9 -Wall -O3 -fPIC -DMATHLIB_STANDALONE -march=core2 -mtune=haswell -mssse3 -ftree-vectorize -fPIC -fPIE -fstack-protector-strong -O2 -pipe  -std=gnu99 -I../include -DNDEBUG -c dlnorm.c -o dlnorm.o\n",
      "gcc -D_FORTIFY_SOURCE=2 -mmacosx-version-min=10.9 -Wall -O3 -fPIC -DMATHLIB_STANDALONE -march=core2 -mtune=haswell -mssse3 -ftree-vectorize -fPIC -fPIE -fstack-protector-strong -O2 -pipe  -std=gnu99 -I../include -DNDEBUG -c dlogis.c -o dlogis.o\n",
      "gcc -D_FORTIFY_SOURCE=2 -mmacosx-version-min=10.9 -Wall -O3 -fPIC -DMATHLIB_STANDALONE -march=core2 -mtune=haswell -mssse3 -ftree-vectorize -fPIC -fPIE -fstack-protector-strong -O2 -pipe  -std=gnu99 -I../include -DNDEBUG -c dnbeta.c -o dnbeta.o\n",
      "gcc -D_FORTIFY_SOURCE=2 -mmacosx-version-min=10.9 -Wall -O3 -fPIC -DMATHLIB_STANDALONE -march=core2 -mtune=haswell -mssse3 -ftree-vectorize -fPIC -fPIE -fstack-protector-strong -O2 -pipe  -std=gnu99 -I../include -DNDEBUG -c dnbinom.c -o dnbinom.o\n",
      "gcc -D_FORTIFY_SOURCE=2 -mmacosx-version-min=10.9 -Wall -O3 -fPIC -DMATHLIB_STANDALONE -march=core2 -mtune=haswell -mssse3 -ftree-vectorize -fPIC -fPIE -fstack-protector-strong -O2 -pipe  -std=gnu99 -I../include -DNDEBUG -c dnchisq.c -o dnchisq.o\n",
      "gcc -D_FORTIFY_SOURCE=2 -mmacosx-version-min=10.9 -Wall -O3 -fPIC -DMATHLIB_STANDALONE -march=core2 -mtune=haswell -mssse3 -ftree-vectorize -fPIC -fPIE -fstack-protector-strong -O2 -pipe  -std=gnu99 -I../include -DNDEBUG -c dnf.c -o dnf.o\n",
      "gcc -D_FORTIFY_SOURCE=2 -mmacosx-version-min=10.9 -Wall -O3 -fPIC -DMATHLIB_STANDALONE -march=core2 -mtune=haswell -mssse3 -ftree-vectorize -fPIC -fPIE -fstack-protector-strong -O2 -pipe  -std=gnu99 -I../include -DNDEBUG -c dnorm.c -o dnorm.o\n",
      "gcc -D_FORTIFY_SOURCE=2 -mmacosx-version-min=10.9 -Wall -O3 -fPIC -DMATHLIB_STANDALONE -march=core2 -mtune=haswell -mssse3 -ftree-vectorize -fPIC -fPIE -fstack-protector-strong -O2 -pipe  -std=gnu99 -I../include -DNDEBUG -c dnt.c -o dnt.o\n",
      "gcc -D_FORTIFY_SOURCE=2 -mmacosx-version-min=10.9 -Wall -O3 -fPIC -DMATHLIB_STANDALONE -march=core2 -mtune=haswell -mssse3 -ftree-vectorize -fPIC -fPIE -fstack-protector-strong -O2 -pipe  -std=gnu99 -I../include -DNDEBUG -c dpois.c -o dpois.o\n",
      "gcc -D_FORTIFY_SOURCE=2 -mmacosx-version-min=10.9 -Wall -O3 -fPIC -DMATHLIB_STANDALONE -march=core2 -mtune=haswell -mssse3 -ftree-vectorize -fPIC -fPIE -fstack-protector-strong -O2 -pipe  -std=gnu99 -I../include -DNDEBUG -c dt.c -o dt.o\n",
      "gcc -D_FORTIFY_SOURCE=2 -mmacosx-version-min=10.9 -Wall -O3 -fPIC -DMATHLIB_STANDALONE -march=core2 -mtune=haswell -mssse3 -ftree-vectorize -fPIC -fPIE -fstack-protector-strong -O2 -pipe  -std=gnu99 -I../include -DNDEBUG -c dunif.c -o dunif.o\n",
      "gcc -D_FORTIFY_SOURCE=2 -mmacosx-version-min=10.9 -Wall -O3 -fPIC -DMATHLIB_STANDALONE -march=core2 -mtune=haswell -mssse3 -ftree-vectorize -fPIC -fPIE -fstack-protector-strong -O2 -pipe  -std=gnu99 -I../include -DNDEBUG -c dweibull.c -o dweibull.o\n",
      "gcc -D_FORTIFY_SOURCE=2 -mmacosx-version-min=10.9 -Wall -O3 -fPIC -DMATHLIB_STANDALONE -march=core2 -mtune=haswell -mssse3 -ftree-vectorize -fPIC -fPIE -fstack-protector-strong -O2 -pipe  -std=gnu99 -I../include -DNDEBUG -c expm1.c -o expm1.o\n",
      "gcc -D_FORTIFY_SOURCE=2 -mmacosx-version-min=10.9 -Wall -O3 -fPIC -DMATHLIB_STANDALONE -march=core2 -mtune=haswell -mssse3 -ftree-vectorize -fPIC -fPIE -fstack-protector-strong -O2 -pipe  -std=gnu99 -I../include -DNDEBUG -c fmax2.c -o fmax2.o\n"
     ]
    },
    {
     "name": "stdout",
     "output_type": "stream",
     "text": [
      "gcc -D_FORTIFY_SOURCE=2 -mmacosx-version-min=10.9 -Wall -O3 -fPIC -DMATHLIB_STANDALONE -march=core2 -mtune=haswell -mssse3 -ftree-vectorize -fPIC -fPIE -fstack-protector-strong -O2 -pipe  -std=gnu99 -I../include -DNDEBUG -c fmin2.c -o fmin2.o\n",
      "gcc -D_FORTIFY_SOURCE=2 -mmacosx-version-min=10.9 -Wall -O3 -fPIC -DMATHLIB_STANDALONE -march=core2 -mtune=haswell -mssse3 -ftree-vectorize -fPIC -fPIE -fstack-protector-strong -O2 -pipe  -std=gnu99 -I../include -DNDEBUG -c fprec.c -o fprec.o\n",
      "gcc -D_FORTIFY_SOURCE=2 -mmacosx-version-min=10.9 -Wall -O3 -fPIC -DMATHLIB_STANDALONE -march=core2 -mtune=haswell -mssse3 -ftree-vectorize -fPIC -fPIE -fstack-protector-strong -O2 -pipe  -std=gnu99 -I../include -DNDEBUG -c fround.c -o fround.o\n",
      "gcc -D_FORTIFY_SOURCE=2 -mmacosx-version-min=10.9 -Wall -O3 -fPIC -DMATHLIB_STANDALONE -march=core2 -mtune=haswell -mssse3 -ftree-vectorize -fPIC -fPIE -fstack-protector-strong -O2 -pipe  -std=gnu99 -I../include -DNDEBUG -c fsign.c -o fsign.o\n",
      "gcc -D_FORTIFY_SOURCE=2 -mmacosx-version-min=10.9 -Wall -O3 -fPIC -DMATHLIB_STANDALONE -march=core2 -mtune=haswell -mssse3 -ftree-vectorize -fPIC -fPIE -fstack-protector-strong -O2 -pipe  -std=gnu99 -I../include -DNDEBUG -c ftrunc.c -o ftrunc.o\n",
      "gcc -D_FORTIFY_SOURCE=2 -mmacosx-version-min=10.9 -Wall -O3 -fPIC -DMATHLIB_STANDALONE -march=core2 -mtune=haswell -mssse3 -ftree-vectorize -fPIC -fPIE -fstack-protector-strong -O2 -pipe  -std=gnu99 -I../include -DNDEBUG -c gamma.c -o gamma.o\n",
      "gcc -D_FORTIFY_SOURCE=2 -mmacosx-version-min=10.9 -Wall -O3 -fPIC -DMATHLIB_STANDALONE -march=core2 -mtune=haswell -mssse3 -ftree-vectorize -fPIC -fPIE -fstack-protector-strong -O2 -pipe  -std=gnu99 -I../include -DNDEBUG -c gamma_cody.c -o gamma_cody.o\n",
      "gcc -D_FORTIFY_SOURCE=2 -mmacosx-version-min=10.9 -Wall -O3 -fPIC -DMATHLIB_STANDALONE -march=core2 -mtune=haswell -mssse3 -ftree-vectorize -fPIC -fPIE -fstack-protector-strong -O2 -pipe  -std=gnu99 -I../include -DNDEBUG -c gammalims.c -o gammalims.o\n",
      "gcc -D_FORTIFY_SOURCE=2 -mmacosx-version-min=10.9 -Wall -O3 -fPIC -DMATHLIB_STANDALONE -march=core2 -mtune=haswell -mssse3 -ftree-vectorize -fPIC -fPIE -fstack-protector-strong -O2 -pipe  -std=gnu99 -I../include -DNDEBUG -c i1mach.c -o i1mach.o\n",
      "gcc -D_FORTIFY_SOURCE=2 -mmacosx-version-min=10.9 -Wall -O3 -fPIC -DMATHLIB_STANDALONE -march=core2 -mtune=haswell -mssse3 -ftree-vectorize -fPIC -fPIE -fstack-protector-strong -O2 -pipe  -std=gnu99 -I../include -DNDEBUG -c imax2.c -o imax2.o\n",
      "gcc -D_FORTIFY_SOURCE=2 -mmacosx-version-min=10.9 -Wall -O3 -fPIC -DMATHLIB_STANDALONE -march=core2 -mtune=haswell -mssse3 -ftree-vectorize -fPIC -fPIE -fstack-protector-strong -O2 -pipe  -std=gnu99 -I../include -DNDEBUG -c imin2.c -o imin2.o\n",
      "gcc -D_FORTIFY_SOURCE=2 -mmacosx-version-min=10.9 -Wall -O3 -fPIC -DMATHLIB_STANDALONE -march=core2 -mtune=haswell -mssse3 -ftree-vectorize -fPIC -fPIE -fstack-protector-strong -O2 -pipe  -std=gnu99 -I../include -DNDEBUG -c lbeta.c -o lbeta.o\n",
      "gcc -D_FORTIFY_SOURCE=2 -mmacosx-version-min=10.9 -Wall -O3 -fPIC -DMATHLIB_STANDALONE -march=core2 -mtune=haswell -mssse3 -ftree-vectorize -fPIC -fPIE -fstack-protector-strong -O2 -pipe  -std=gnu99 -I../include -DNDEBUG -c lgamma.c -o lgamma.o\n",
      "gcc -D_FORTIFY_SOURCE=2 -mmacosx-version-min=10.9 -Wall -O3 -fPIC -DMATHLIB_STANDALONE -march=core2 -mtune=haswell -mssse3 -ftree-vectorize -fPIC -fPIE -fstack-protector-strong -O2 -pipe  -std=gnu99 -I../include -DNDEBUG -c lgammacor.c -o lgammacor.o\n",
      "gcc -D_FORTIFY_SOURCE=2 -mmacosx-version-min=10.9 -Wall -O3 -fPIC -DMATHLIB_STANDALONE -march=core2 -mtune=haswell -mssse3 -ftree-vectorize -fPIC -fPIE -fstack-protector-strong -O2 -pipe  -std=gnu99 -I../include -DNDEBUG -c log1p.c -o log1p.o\n",
      "gcc -D_FORTIFY_SOURCE=2 -mmacosx-version-min=10.9 -Wall -O3 -fPIC -DMATHLIB_STANDALONE -march=core2 -mtune=haswell -mssse3 -ftree-vectorize -fPIC -fPIE -fstack-protector-strong -O2 -pipe  -std=gnu99 -I../include -DNDEBUG -c mlutils.c -o mlutils.o\n",
      "gcc -D_FORTIFY_SOURCE=2 -mmacosx-version-min=10.9 -Wall -O3 -fPIC -DMATHLIB_STANDALONE -march=core2 -mtune=haswell -mssse3 -ftree-vectorize -fPIC -fPIE -fstack-protector-strong -O2 -pipe  -std=gnu99 -I../include -DNDEBUG -c pbeta.c -o pbeta.o\n",
      "gcc -D_FORTIFY_SOURCE=2 -mmacosx-version-min=10.9 -Wall -O3 -fPIC -DMATHLIB_STANDALONE -march=core2 -mtune=haswell -mssse3 -ftree-vectorize -fPIC -fPIE -fstack-protector-strong -O2 -pipe  -std=gnu99 -I../include -DNDEBUG -c pbinom.c -o pbinom.o\n",
      "gcc -D_FORTIFY_SOURCE=2 -mmacosx-version-min=10.9 -Wall -O3 -fPIC -DMATHLIB_STANDALONE -march=core2 -mtune=haswell -mssse3 -ftree-vectorize -fPIC -fPIE -fstack-protector-strong -O2 -pipe  -std=gnu99 -I../include -DNDEBUG -c pcauchy.c -o pcauchy.o\n",
      "gcc -D_FORTIFY_SOURCE=2 -mmacosx-version-min=10.9 -Wall -O3 -fPIC -DMATHLIB_STANDALONE -march=core2 -mtune=haswell -mssse3 -ftree-vectorize -fPIC -fPIE -fstack-protector-strong -O2 -pipe  -std=gnu99 -I../include -DNDEBUG -c pchisq.c -o pchisq.o\n",
      "gcc -D_FORTIFY_SOURCE=2 -mmacosx-version-min=10.9 -Wall -O3 -fPIC -DMATHLIB_STANDALONE -march=core2 -mtune=haswell -mssse3 -ftree-vectorize -fPIC -fPIE -fstack-protector-strong -O2 -pipe  -std=gnu99 -I../include -DNDEBUG -c pexp.c -o pexp.o\n",
      "gcc -D_FORTIFY_SOURCE=2 -mmacosx-version-min=10.9 -Wall -O3 -fPIC -DMATHLIB_STANDALONE -march=core2 -mtune=haswell -mssse3 -ftree-vectorize -fPIC -fPIE -fstack-protector-strong -O2 -pipe  -std=gnu99 -I../include -DNDEBUG -c pf.c -o pf.o\n",
      "gcc -D_FORTIFY_SOURCE=2 -mmacosx-version-min=10.9 -Wall -O3 -fPIC -DMATHLIB_STANDALONE -march=core2 -mtune=haswell -mssse3 -ftree-vectorize -fPIC -fPIE -fstack-protector-strong -O2 -pipe  -std=gnu99 -I../include -DNDEBUG -c pgamma.c -o pgamma.o\n",
      "gcc -D_FORTIFY_SOURCE=2 -mmacosx-version-min=10.9 -Wall -O3 -fPIC -DMATHLIB_STANDALONE -march=core2 -mtune=haswell -mssse3 -ftree-vectorize -fPIC -fPIE -fstack-protector-strong -O2 -pipe  -std=gnu99 -I../include -DNDEBUG -c pgeom.c -o pgeom.o\n",
      "gcc -D_FORTIFY_SOURCE=2 -mmacosx-version-min=10.9 -Wall -O3 -fPIC -DMATHLIB_STANDALONE -march=core2 -mtune=haswell -mssse3 -ftree-vectorize -fPIC -fPIE -fstack-protector-strong -O2 -pipe  -std=gnu99 -I../include -DNDEBUG -c phyper.c -o phyper.o\n",
      "gcc -D_FORTIFY_SOURCE=2 -mmacosx-version-min=10.9 -Wall -O3 -fPIC -DMATHLIB_STANDALONE -march=core2 -mtune=haswell -mssse3 -ftree-vectorize -fPIC -fPIE -fstack-protector-strong -O2 -pipe  -std=gnu99 -I../include -DNDEBUG -c plnorm.c -o plnorm.o\n",
      "gcc -D_FORTIFY_SOURCE=2 -mmacosx-version-min=10.9 -Wall -O3 -fPIC -DMATHLIB_STANDALONE -march=core2 -mtune=haswell -mssse3 -ftree-vectorize -fPIC -fPIE -fstack-protector-strong -O2 -pipe  -std=gnu99 -I../include -DNDEBUG -c plogis.c -o plogis.o\n",
      "gcc -D_FORTIFY_SOURCE=2 -mmacosx-version-min=10.9 -Wall -O3 -fPIC -DMATHLIB_STANDALONE -march=core2 -mtune=haswell -mssse3 -ftree-vectorize -fPIC -fPIE -fstack-protector-strong -O2 -pipe  -std=gnu99 -I../include -DNDEBUG -c pnbeta.c -o pnbeta.o\n",
      "gcc -D_FORTIFY_SOURCE=2 -mmacosx-version-min=10.9 -Wall -O3 -fPIC -DMATHLIB_STANDALONE -march=core2 -mtune=haswell -mssse3 -ftree-vectorize -fPIC -fPIE -fstack-protector-strong -O2 -pipe  -std=gnu99 -I../include -DNDEBUG -c pnbinom.c -o pnbinom.o\n",
      "gcc -D_FORTIFY_SOURCE=2 -mmacosx-version-min=10.9 -Wall -O3 -fPIC -DMATHLIB_STANDALONE -march=core2 -mtune=haswell -mssse3 -ftree-vectorize -fPIC -fPIE -fstack-protector-strong -O2 -pipe  -std=gnu99 -I../include -DNDEBUG -c pnchisq.c -o pnchisq.o\n",
      "gcc -D_FORTIFY_SOURCE=2 -mmacosx-version-min=10.9 -Wall -O3 -fPIC -DMATHLIB_STANDALONE -march=core2 -mtune=haswell -mssse3 -ftree-vectorize -fPIC -fPIE -fstack-protector-strong -O2 -pipe  -std=gnu99 -I../include -DNDEBUG -c pnf.c -o pnf.o\n",
      "gcc -D_FORTIFY_SOURCE=2 -mmacosx-version-min=10.9 -Wall -O3 -fPIC -DMATHLIB_STANDALONE -march=core2 -mtune=haswell -mssse3 -ftree-vectorize -fPIC -fPIE -fstack-protector-strong -O2 -pipe  -std=gnu99 -I../include -DNDEBUG -c pnorm.c -o pnorm.o\n",
      "gcc -D_FORTIFY_SOURCE=2 -mmacosx-version-min=10.9 -Wall -O3 -fPIC -DMATHLIB_STANDALONE -march=core2 -mtune=haswell -mssse3 -ftree-vectorize -fPIC -fPIE -fstack-protector-strong -O2 -pipe  -std=gnu99 -I../include -DNDEBUG -c pnt.c -o pnt.o\n",
      "gcc -D_FORTIFY_SOURCE=2 -mmacosx-version-min=10.9 -Wall -O3 -fPIC -DMATHLIB_STANDALONE -march=core2 -mtune=haswell -mssse3 -ftree-vectorize -fPIC -fPIE -fstack-protector-strong -O2 -pipe  -std=gnu99 -I../include -DNDEBUG -c polygamma.c -o polygamma.o\n"
     ]
    },
    {
     "name": "stdout",
     "output_type": "stream",
     "text": [
      "gcc -D_FORTIFY_SOURCE=2 -mmacosx-version-min=10.9 -Wall -O3 -fPIC -DMATHLIB_STANDALONE -march=core2 -mtune=haswell -mssse3 -ftree-vectorize -fPIC -fPIE -fstack-protector-strong -O2 -pipe  -std=gnu99 -I../include -DNDEBUG -c ppois.c -o ppois.o\n",
      "gcc -D_FORTIFY_SOURCE=2 -mmacosx-version-min=10.9 -Wall -O3 -fPIC -DMATHLIB_STANDALONE -march=core2 -mtune=haswell -mssse3 -ftree-vectorize -fPIC -fPIE -fstack-protector-strong -O2 -pipe  -std=gnu99 -I../include -DNDEBUG -c pt.c -o pt.o\n",
      "gcc -D_FORTIFY_SOURCE=2 -mmacosx-version-min=10.9 -Wall -O3 -fPIC -DMATHLIB_STANDALONE -march=core2 -mtune=haswell -mssse3 -ftree-vectorize -fPIC -fPIE -fstack-protector-strong -O2 -pipe  -std=gnu99 -I../include -DNDEBUG -c ptukey.c -o ptukey.o\n",
      "gcc -D_FORTIFY_SOURCE=2 -mmacosx-version-min=10.9 -Wall -O3 -fPIC -DMATHLIB_STANDALONE -march=core2 -mtune=haswell -mssse3 -ftree-vectorize -fPIC -fPIE -fstack-protector-strong -O2 -pipe  -std=gnu99 -I../include -DNDEBUG -c punif.c -o punif.o\n",
      "gcc -D_FORTIFY_SOURCE=2 -mmacosx-version-min=10.9 -Wall -O3 -fPIC -DMATHLIB_STANDALONE -march=core2 -mtune=haswell -mssse3 -ftree-vectorize -fPIC -fPIE -fstack-protector-strong -O2 -pipe  -std=gnu99 -I../include -DNDEBUG -c pweibull.c -o pweibull.o\n",
      "gcc -D_FORTIFY_SOURCE=2 -mmacosx-version-min=10.9 -Wall -O3 -fPIC -DMATHLIB_STANDALONE -march=core2 -mtune=haswell -mssse3 -ftree-vectorize -fPIC -fPIE -fstack-protector-strong -O2 -pipe  -std=gnu99 -I../include -DNDEBUG -c qbeta.c -o qbeta.o\n",
      "gcc -D_FORTIFY_SOURCE=2 -mmacosx-version-min=10.9 -Wall -O3 -fPIC -DMATHLIB_STANDALONE -march=core2 -mtune=haswell -mssse3 -ftree-vectorize -fPIC -fPIE -fstack-protector-strong -O2 -pipe  -std=gnu99 -I../include -DNDEBUG -c qbinom.c -o qbinom.o\n",
      "gcc -D_FORTIFY_SOURCE=2 -mmacosx-version-min=10.9 -Wall -O3 -fPIC -DMATHLIB_STANDALONE -march=core2 -mtune=haswell -mssse3 -ftree-vectorize -fPIC -fPIE -fstack-protector-strong -O2 -pipe  -std=gnu99 -I../include -DNDEBUG -c qcauchy.c -o qcauchy.o\n",
      "gcc -D_FORTIFY_SOURCE=2 -mmacosx-version-min=10.9 -Wall -O3 -fPIC -DMATHLIB_STANDALONE -march=core2 -mtune=haswell -mssse3 -ftree-vectorize -fPIC -fPIE -fstack-protector-strong -O2 -pipe  -std=gnu99 -I../include -DNDEBUG -c qchisq.c -o qchisq.o\n",
      "gcc -D_FORTIFY_SOURCE=2 -mmacosx-version-min=10.9 -Wall -O3 -fPIC -DMATHLIB_STANDALONE -march=core2 -mtune=haswell -mssse3 -ftree-vectorize -fPIC -fPIE -fstack-protector-strong -O2 -pipe  -std=gnu99 -I../include -DNDEBUG -c qexp.c -o qexp.o\n",
      "gcc -D_FORTIFY_SOURCE=2 -mmacosx-version-min=10.9 -Wall -O3 -fPIC -DMATHLIB_STANDALONE -march=core2 -mtune=haswell -mssse3 -ftree-vectorize -fPIC -fPIE -fstack-protector-strong -O2 -pipe  -std=gnu99 -I../include -DNDEBUG -c qf.c -o qf.o\n",
      "gcc -D_FORTIFY_SOURCE=2 -mmacosx-version-min=10.9 -Wall -O3 -fPIC -DMATHLIB_STANDALONE -march=core2 -mtune=haswell -mssse3 -ftree-vectorize -fPIC -fPIE -fstack-protector-strong -O2 -pipe  -std=gnu99 -I../include -DNDEBUG -c qgamma.c -o qgamma.o\n",
      "gcc -D_FORTIFY_SOURCE=2 -mmacosx-version-min=10.9 -Wall -O3 -fPIC -DMATHLIB_STANDALONE -march=core2 -mtune=haswell -mssse3 -ftree-vectorize -fPIC -fPIE -fstack-protector-strong -O2 -pipe  -std=gnu99 -I../include -DNDEBUG -c qgeom.c -o qgeom.o\n",
      "gcc -D_FORTIFY_SOURCE=2 -mmacosx-version-min=10.9 -Wall -O3 -fPIC -DMATHLIB_STANDALONE -march=core2 -mtune=haswell -mssse3 -ftree-vectorize -fPIC -fPIE -fstack-protector-strong -O2 -pipe  -std=gnu99 -I../include -DNDEBUG -c qhyper.c -o qhyper.o\n",
      "gcc -D_FORTIFY_SOURCE=2 -mmacosx-version-min=10.9 -Wall -O3 -fPIC -DMATHLIB_STANDALONE -march=core2 -mtune=haswell -mssse3 -ftree-vectorize -fPIC -fPIE -fstack-protector-strong -O2 -pipe  -std=gnu99 -I../include -DNDEBUG -c qlnorm.c -o qlnorm.o\n",
      "gcc -D_FORTIFY_SOURCE=2 -mmacosx-version-min=10.9 -Wall -O3 -fPIC -DMATHLIB_STANDALONE -march=core2 -mtune=haswell -mssse3 -ftree-vectorize -fPIC -fPIE -fstack-protector-strong -O2 -pipe  -std=gnu99 -I../include -DNDEBUG -c qlogis.c -o qlogis.o\n",
      "gcc -D_FORTIFY_SOURCE=2 -mmacosx-version-min=10.9 -Wall -O3 -fPIC -DMATHLIB_STANDALONE -march=core2 -mtune=haswell -mssse3 -ftree-vectorize -fPIC -fPIE -fstack-protector-strong -O2 -pipe  -std=gnu99 -I../include -DNDEBUG -c qnbeta.c -o qnbeta.o\n",
      "gcc -D_FORTIFY_SOURCE=2 -mmacosx-version-min=10.9 -Wall -O3 -fPIC -DMATHLIB_STANDALONE -march=core2 -mtune=haswell -mssse3 -ftree-vectorize -fPIC -fPIE -fstack-protector-strong -O2 -pipe  -std=gnu99 -I../include -DNDEBUG -c qnbinom.c -o qnbinom.o\n",
      "gcc -D_FORTIFY_SOURCE=2 -mmacosx-version-min=10.9 -Wall -O3 -fPIC -DMATHLIB_STANDALONE -march=core2 -mtune=haswell -mssse3 -ftree-vectorize -fPIC -fPIE -fstack-protector-strong -O2 -pipe  -std=gnu99 -I../include -DNDEBUG -c qnchisq.c -o qnchisq.o\n",
      "gcc -D_FORTIFY_SOURCE=2 -mmacosx-version-min=10.9 -Wall -O3 -fPIC -DMATHLIB_STANDALONE -march=core2 -mtune=haswell -mssse3 -ftree-vectorize -fPIC -fPIE -fstack-protector-strong -O2 -pipe  -std=gnu99 -I../include -DNDEBUG -c qnf.c -o qnf.o\n",
      "gcc -D_FORTIFY_SOURCE=2 -mmacosx-version-min=10.9 -Wall -O3 -fPIC -DMATHLIB_STANDALONE -march=core2 -mtune=haswell -mssse3 -ftree-vectorize -fPIC -fPIE -fstack-protector-strong -O2 -pipe  -std=gnu99 -I../include -DNDEBUG -c qnorm.c -o qnorm.o\n",
      "gcc -D_FORTIFY_SOURCE=2 -mmacosx-version-min=10.9 -Wall -O3 -fPIC -DMATHLIB_STANDALONE -march=core2 -mtune=haswell -mssse3 -ftree-vectorize -fPIC -fPIE -fstack-protector-strong -O2 -pipe  -std=gnu99 -I../include -DNDEBUG -c qnt.c -o qnt.o\n",
      "gcc -D_FORTIFY_SOURCE=2 -mmacosx-version-min=10.9 -Wall -O3 -fPIC -DMATHLIB_STANDALONE -march=core2 -mtune=haswell -mssse3 -ftree-vectorize -fPIC -fPIE -fstack-protector-strong -O2 -pipe  -std=gnu99 -I../include -DNDEBUG -c qpois.c -o qpois.o\n",
      "gcc -D_FORTIFY_SOURCE=2 -mmacosx-version-min=10.9 -Wall -O3 -fPIC -DMATHLIB_STANDALONE -march=core2 -mtune=haswell -mssse3 -ftree-vectorize -fPIC -fPIE -fstack-protector-strong -O2 -pipe  -std=gnu99 -I../include -DNDEBUG -c qt.c -o qt.o\n",
      "gcc -D_FORTIFY_SOURCE=2 -mmacosx-version-min=10.9 -Wall -O3 -fPIC -DMATHLIB_STANDALONE -march=core2 -mtune=haswell -mssse3 -ftree-vectorize -fPIC -fPIE -fstack-protector-strong -O2 -pipe  -std=gnu99 -I../include -DNDEBUG -c qtukey.c -o qtukey.o\n",
      "gcc -D_FORTIFY_SOURCE=2 -mmacosx-version-min=10.9 -Wall -O3 -fPIC -DMATHLIB_STANDALONE -march=core2 -mtune=haswell -mssse3 -ftree-vectorize -fPIC -fPIE -fstack-protector-strong -O2 -pipe  -std=gnu99 -I../include -DNDEBUG -c qunif.c -o qunif.o\n",
      "gcc -D_FORTIFY_SOURCE=2 -mmacosx-version-min=10.9 -Wall -O3 -fPIC -DMATHLIB_STANDALONE -march=core2 -mtune=haswell -mssse3 -ftree-vectorize -fPIC -fPIE -fstack-protector-strong -O2 -pipe  -std=gnu99 -I../include -DNDEBUG -c qweibull.c -o qweibull.o\n",
      "gcc -D_FORTIFY_SOURCE=2 -mmacosx-version-min=10.9 -Wall -O3 -fPIC -DMATHLIB_STANDALONE -march=core2 -mtune=haswell -mssse3 -ftree-vectorize -fPIC -fPIE -fstack-protector-strong -O2 -pipe  -std=gnu99 -I../include -DNDEBUG -c rbeta.c -o rbeta.o\n",
      "gcc -D_FORTIFY_SOURCE=2 -mmacosx-version-min=10.9 -Wall -O3 -fPIC -DMATHLIB_STANDALONE -march=core2 -mtune=haswell -mssse3 -ftree-vectorize -fPIC -fPIE -fstack-protector-strong -O2 -pipe  -std=gnu99 -I../include -DNDEBUG -c rbinom.c -o rbinom.o\n",
      "gcc -D_FORTIFY_SOURCE=2 -mmacosx-version-min=10.9 -Wall -O3 -fPIC -DMATHLIB_STANDALONE -march=core2 -mtune=haswell -mssse3 -ftree-vectorize -fPIC -fPIE -fstack-protector-strong -O2 -pipe  -std=gnu99 -I../include -DNDEBUG -c rcauchy.c -o rcauchy.o\n",
      "gcc -D_FORTIFY_SOURCE=2 -mmacosx-version-min=10.9 -Wall -O3 -fPIC -DMATHLIB_STANDALONE -march=core2 -mtune=haswell -mssse3 -ftree-vectorize -fPIC -fPIE -fstack-protector-strong -O2 -pipe  -std=gnu99 -I../include -DNDEBUG -c rchisq.c -o rchisq.o\n",
      "gcc -D_FORTIFY_SOURCE=2 -mmacosx-version-min=10.9 -Wall -O3 -fPIC -DMATHLIB_STANDALONE -march=core2 -mtune=haswell -mssse3 -ftree-vectorize -fPIC -fPIE -fstack-protector-strong -O2 -pipe  -std=gnu99 -I../include -DNDEBUG -c rexp.c -o rexp.o\n",
      "gcc -D_FORTIFY_SOURCE=2 -mmacosx-version-min=10.9 -Wall -O3 -fPIC -DMATHLIB_STANDALONE -march=core2 -mtune=haswell -mssse3 -ftree-vectorize -fPIC -fPIE -fstack-protector-strong -O2 -pipe  -std=gnu99 -I../include -DNDEBUG -c rf.c -o rf.o\n",
      "gcc -D_FORTIFY_SOURCE=2 -mmacosx-version-min=10.9 -Wall -O3 -fPIC -DMATHLIB_STANDALONE -march=core2 -mtune=haswell -mssse3 -ftree-vectorize -fPIC -fPIE -fstack-protector-strong -O2 -pipe  -std=gnu99 -I../include -DNDEBUG -c rgamma.c -o rgamma.o\n"
     ]
    },
    {
     "name": "stdout",
     "output_type": "stream",
     "text": [
      "gcc -D_FORTIFY_SOURCE=2 -mmacosx-version-min=10.9 -Wall -O3 -fPIC -DMATHLIB_STANDALONE -march=core2 -mtune=haswell -mssse3 -ftree-vectorize -fPIC -fPIE -fstack-protector-strong -O2 -pipe  -std=gnu99 -I../include -DNDEBUG -c rgeom.c -o rgeom.o\n",
      "gcc -D_FORTIFY_SOURCE=2 -mmacosx-version-min=10.9 -Wall -O3 -fPIC -DMATHLIB_STANDALONE -march=core2 -mtune=haswell -mssse3 -ftree-vectorize -fPIC -fPIE -fstack-protector-strong -O2 -pipe  -std=gnu99 -I../include -DNDEBUG -c rhyper.c -o rhyper.o\n",
      "gcc -D_FORTIFY_SOURCE=2 -mmacosx-version-min=10.9 -Wall -O3 -fPIC -DMATHLIB_STANDALONE -march=core2 -mtune=haswell -mssse3 -ftree-vectorize -fPIC -fPIE -fstack-protector-strong -O2 -pipe  -std=gnu99 -I../include -DNDEBUG -c rlnorm.c -o rlnorm.o\n",
      "gcc -D_FORTIFY_SOURCE=2 -mmacosx-version-min=10.9 -Wall -O3 -fPIC -DMATHLIB_STANDALONE -march=core2 -mtune=haswell -mssse3 -ftree-vectorize -fPIC -fPIE -fstack-protector-strong -O2 -pipe  -std=gnu99 -I../include -DNDEBUG -c rlogis.c -o rlogis.o\n",
      "gcc -D_FORTIFY_SOURCE=2 -mmacosx-version-min=10.9 -Wall -O3 -fPIC -DMATHLIB_STANDALONE -march=core2 -mtune=haswell -mssse3 -ftree-vectorize -fPIC -fPIE -fstack-protector-strong -O2 -pipe  -std=gnu99 -I../include -DNDEBUG -c rmultinom.c -o rmultinom.o\n",
      "gcc -D_FORTIFY_SOURCE=2 -mmacosx-version-min=10.9 -Wall -O3 -fPIC -DMATHLIB_STANDALONE -march=core2 -mtune=haswell -mssse3 -ftree-vectorize -fPIC -fPIE -fstack-protector-strong -O2 -pipe  -std=gnu99 -I../include -DNDEBUG -c rnbinom.c -o rnbinom.o\n",
      "gcc -D_FORTIFY_SOURCE=2 -mmacosx-version-min=10.9 -Wall -O3 -fPIC -DMATHLIB_STANDALONE -march=core2 -mtune=haswell -mssse3 -ftree-vectorize -fPIC -fPIE -fstack-protector-strong -O2 -pipe  -std=gnu99 -I../include -DNDEBUG -c rnchisq.c -o rnchisq.o\n",
      "gcc -D_FORTIFY_SOURCE=2 -mmacosx-version-min=10.9 -Wall -O3 -fPIC -DMATHLIB_STANDALONE -march=core2 -mtune=haswell -mssse3 -ftree-vectorize -fPIC -fPIE -fstack-protector-strong -O2 -pipe  -std=gnu99 -I../include -DNDEBUG -c rnorm.c -o rnorm.o\n",
      "gcc -D_FORTIFY_SOURCE=2 -mmacosx-version-min=10.9 -Wall -O3 -fPIC -DMATHLIB_STANDALONE -march=core2 -mtune=haswell -mssse3 -ftree-vectorize -fPIC -fPIE -fstack-protector-strong -O2 -pipe  -std=gnu99 -I../include -DNDEBUG -c rpois.c -o rpois.o\n",
      "gcc -D_FORTIFY_SOURCE=2 -mmacosx-version-min=10.9 -Wall -O3 -fPIC -DMATHLIB_STANDALONE -march=core2 -mtune=haswell -mssse3 -ftree-vectorize -fPIC -fPIE -fstack-protector-strong -O2 -pipe  -std=gnu99 -I../include -DNDEBUG -c rt.c -o rt.o\n",
      "gcc -D_FORTIFY_SOURCE=2 -mmacosx-version-min=10.9 -Wall -O3 -fPIC -DMATHLIB_STANDALONE -march=core2 -mtune=haswell -mssse3 -ftree-vectorize -fPIC -fPIE -fstack-protector-strong -O2 -pipe  -std=gnu99 -I../include -DNDEBUG -c runif.c -o runif.o\n",
      "gcc -D_FORTIFY_SOURCE=2 -mmacosx-version-min=10.9 -Wall -O3 -fPIC -DMATHLIB_STANDALONE -march=core2 -mtune=haswell -mssse3 -ftree-vectorize -fPIC -fPIE -fstack-protector-strong -O2 -pipe  -std=gnu99 -I../include -DNDEBUG -c rweibull.c -o rweibull.o\n",
      "gcc -D_FORTIFY_SOURCE=2 -mmacosx-version-min=10.9 -Wall -O3 -fPIC -DMATHLIB_STANDALONE -march=core2 -mtune=haswell -mssse3 -ftree-vectorize -fPIC -fPIE -fstack-protector-strong -O2 -pipe  -std=gnu99 -I../include -DNDEBUG -c sign.c -o sign.o\n",
      "gcc -D_FORTIFY_SOURCE=2 -mmacosx-version-min=10.9 -Wall -O3 -fPIC -DMATHLIB_STANDALONE -march=core2 -mtune=haswell -mssse3 -ftree-vectorize -fPIC -fPIE -fstack-protector-strong -O2 -pipe  -std=gnu99 -I../include -DNDEBUG -c signrank.c -o signrank.o\n",
      "gcc -D_FORTIFY_SOURCE=2 -mmacosx-version-min=10.9 -Wall -O3 -fPIC -DMATHLIB_STANDALONE -march=core2 -mtune=haswell -mssse3 -ftree-vectorize -fPIC -fPIE -fstack-protector-strong -O2 -pipe  -std=gnu99 -I../include -DNDEBUG -c stirlerr.c -o stirlerr.o\n",
      "gcc -D_FORTIFY_SOURCE=2 -mmacosx-version-min=10.9 -Wall -O3 -fPIC -DMATHLIB_STANDALONE -march=core2 -mtune=haswell -mssse3 -ftree-vectorize -fPIC -fPIE -fstack-protector-strong -O2 -pipe  -std=gnu99 -I../include -DNDEBUG -c toms708.c -o toms708.o\n",
      "gcc -D_FORTIFY_SOURCE=2 -mmacosx-version-min=10.9 -Wall -O3 -fPIC -DMATHLIB_STANDALONE -march=core2 -mtune=haswell -mssse3 -ftree-vectorize -fPIC -fPIE -fstack-protector-strong -O2 -pipe  -std=gnu99 -I../include -DNDEBUG -c wilcox.c -o wilcox.o\n",
      "rm -f libRmath-julia.dylib\n",
      "gcc  -pie -headerpad_max_install_names -shared -o libRmath-julia.dylib bd0.o bessel_i.o bessel_j.o bessel_k.o bessel_y.o beta.o callback.o chebyshev.o choose.o cospi.o d1mach.o dbeta.o dbinom.o dcauchy.o dchisq.o dexp.o df.o dgamma.o dgeom.o dhyper.o dlnorm.o dlogis.o dnbeta.o dnbinom.o dnchisq.o dnf.o dnorm.o dnt.o dpois.o dt.o dunif.o dweibull.o expm1.o fmax2.o fmin2.o fprec.o fround.o fsign.o ftrunc.o gamma.o gamma_cody.o gammalims.o i1mach.o imax2.o imin2.o lbeta.o lgamma.o lgammacor.o log1p.o mlutils.o pbeta.o pbinom.o pcauchy.o pchisq.o pexp.o pf.o pgamma.o pgeom.o phyper.o plnorm.o plogis.o pnbeta.o pnbinom.o pnchisq.o pnf.o pnorm.o pnt.o polygamma.o ppois.o pt.o ptukey.o punif.o pweibull.o qbeta.o qbinom.o qcauchy.o qchisq.o qexp.o qf.o qgamma.o qgeom.o qhyper.o qlnorm.o qlogis.o qnbeta.o qnbinom.o qnchisq.o qnf.o qnorm.o qnt.o qpois.o qt.o qtukey.o qunif.o qweibull.o rbeta.o rbinom.o rcauchy.o rchisq.o rexp.o rf.o rgamma.o rgeom.o rhyper.o rlnorm.o rlogis.o rmultinom.o rnbinom.o rnchisq.o rnorm.o rpois.o rt.o runif.o rweibull.o sign.o signrank.o stirlerr.o toms708.o wilcox.o\n"
     ]
    },
    {
     "name": "stderr",
     "output_type": "stream",
     "text": [
      "clang: warning: argument unused during compilation: '-pie' [-Wunused-command-line-argument]\n",
      "\u001b[1m\u001b[36mInfo: \u001b[39m\u001b[22m\u001b[36mChanging directory to /Users/kojin/.julia/v0.6/Rmath/deps/src/Rmath-julia-0.2.0\n",
      "\u001b[39m\u001b[1m\u001b[36mINFO: \u001b[39m\u001b[22m\u001b[36mPackage database updated\n",
      "\u001b[39m"
     ]
    }
   ],
   "source": [
    "Pkg.add(\"Laplacians\")\n",
    "Pkg.add(\"Gadfly\")"
   ]
  },
  {
   "cell_type": "code",
   "execution_count": 6,
   "metadata": {},
   "outputs": [
    {
     "name": "stderr",
     "output_type": "stream",
     "text": [
      "\u001b[1m\u001b[36mINFO: \u001b[39m\u001b[22m\u001b[36mPrecompiling module PyPlot.\n",
      "\u001b[39m\u001b[1m\u001b[36mInfo: \u001b[39m\u001b[22m\u001b[36mInstalling matplotlib via the Conda matplotlib package...\n",
      "\u001b[39m"
     ]
    },
    {
     "name": "stdout",
     "output_type": "stream",
     "text": [
      "Solving environment: ...working... done\n"
     ]
    },
    {
     "name": "stderr",
     "output_type": "stream",
     "text": [
      "backports.functools_lru_cache 1.5########## | 100% \n",
      "matplotlib 2.2.2########## | 100% \n",
      "pyparsing 2.2.0########## | 100% \n",
      "pytz 2018.4########## | 100% \n",
      "cycler 0.10.0########## | 100% \n",
      "subprocess32 3.2.7########## | 100% \n",
      "kiwisolver 1.0.1########## | 100% \n",
      "freetype 2.8#######5   |  75% "
     ]
    },
    {
     "name": "stdout",
     "output_type": "stream",
     "text": [
      "\n",
      "## Package Plan ##\n",
      "\n",
      "  environment location: /Users/kojin/.julia/v0.6/Conda/deps/usr\n",
      "\n",
      "  added / updated specs: \n",
      "    - matplotlib\n",
      "\n",
      "\n",
      "The following packages will be downloaded:\n",
      "\n",
      "    package                    |            build\n",
      "    ---------------------------|-----------------\n",
      "    backports.functools_lru_cache-1.5|           py27_1           9 KB\n",
      "    matplotlib-2.2.2           |   py27ha7267d0_0         6.5 MB\n",
      "    pyparsing-2.2.0            |   py27h5bb6aaf_0          94 KB\n",
      "    pytz-2018.4                |           py27_0         211 KB\n",
      "    cycler-0.10.0              |   py27hfc73c78_0          13 KB\n",
      "    subprocess32-3.2.7         |   py27h24b2887_0          38 KB\n",
      "    kiwisolver-1.0.1           |   py27h9856860_0          57 KB\n",
      "    freetype-2.8               |       h12048fb_1         840 KB\n",
      "    ------------------------------------------------------------\n",
      "                                           Total:         7.7 MB\n",
      "\n",
      "The following NEW packages will be INSTALLED:\n",
      "\n",
      "    backports.functools_lru_cache: 1.5-py27_1           \n",
      "    cycler:                        0.10.0-py27hfc73c78_0\n",
      "    freetype:                      2.8-h12048fb_1       \n",
      "    kiwisolver:                    1.0.1-py27h9856860_0 \n",
      "    matplotlib:                    2.2.2-py27ha7267d0_0 \n",
      "    pyparsing:                     2.2.0-py27h5bb6aaf_0 \n",
      "    pytz:                          2018.4-py27_0        \n",
      "    subprocess32:                  3.2.7-py27h24b2887_0 \n",
      "\n",
      "\n",
      "Downloading and Extracting Packages\n",
      "Preparing transaction: ...working... "
     ]
    },
    {
     "name": "stderr",
     "output_type": "stream",
     "text": [
      "\r",
      "freetype 2.8#########9 | 100% \r",
      "freetype 2.8########## | 100% \n"
     ]
    },
    {
     "name": "stdout",
     "output_type": "stream",
     "text": [
      "done\n",
      "Verifying transaction: ...working... done\n",
      "Executing transaction: ...working... done\n"
     ]
    }
   ],
   "source": [
    "using Laplacians\n",
    "using PyPlot"
   ]
  },
  {
   "cell_type": "code",
   "execution_count": 9,
   "metadata": {},
   "outputs": [
    {
     "ename": "LoadError",
     "evalue": "\u001b[91mUndefVarError: plot not defined\u001b[39m",
     "output_type": "error",
     "traceback": [
      "\u001b[91mUndefVarError: plot not defined\u001b[39m",
      "",
      "Stacktrace:",
      " [1] \u001b[1m#plotGraph#38\u001b[22m\u001b[22m\u001b[1m(\u001b[22m\u001b[22m::Bool, ::Bool, ::Bool, ::Function, ::SparseMatrixCSC{Float64,Int64}, ::Array{Float64,1}, ::Array{Float64,1}, ::Array{Int64,1}\u001b[1m)\u001b[22m\u001b[22m at \u001b[1m/Users/kojin/.julia/v0.6/Laplacians/src/graphOps.jl:400\u001b[22m\u001b[22m",
      " [2] \u001b[1mspectralDrawing\u001b[22m\u001b[22m\u001b[1m(\u001b[22m\u001b[22m::SparseMatrixCSC{Float64,Int64}\u001b[1m)\u001b[22m\u001b[22m at \u001b[1m/Users/kojin/.julia/v0.6/Laplacians/src/graphOps.jl:439\u001b[22m\u001b[22m"
     ]
    }
   ],
   "source": [
    "a = chimera(100,6)\n",
    "spectralDrawing(a)\n"
   ]
  },
  {
   "cell_type": "code",
   "execution_count": 5,
   "metadata": {},
   "outputs": [
    {
     "ename": "LoadError",
     "evalue": "\u001b[91mUndefVarError: plot not defined\u001b[39m",
     "output_type": "error",
     "traceback": [
      "\u001b[91mUndefVarError: plot not defined\u001b[39m",
      "",
      "Stacktrace:",
      " [1] \u001b[1m#plotGraph#38\u001b[22m\u001b[22m\u001b[1m(\u001b[22m\u001b[22m::Bool, ::Bool, ::Bool, ::Function, ::SparseMatrixCSC{Float64,Int64}, ::Array{Float64,1}, ::Array{Float64,1}, ::Array{Int64,1}\u001b[1m)\u001b[22m\u001b[22m at \u001b[1m/Users/kojin/.julia/v0.6/Laplacians/src/graphOps.jl:400\u001b[22m\u001b[22m",
      " [2] \u001b[1mspectralDrawing\u001b[22m\u001b[22m\u001b[1m(\u001b[22m\u001b[22m::SparseMatrixCSC{Float64,Int64}\u001b[1m)\u001b[22m\u001b[22m at \u001b[1m/Users/kojin/.julia/v0.6/Laplacians/src/graphOps.jl:439\u001b[22m\u001b[22m"
     ]
    }
   ],
   "source": [
    "a = generalizedNecklace(grid2(6),grid2(3),2)\n",
    "spectralDrawing(a)"
   ]
  },
  {
   "cell_type": "code",
   "execution_count": null,
   "metadata": {},
   "outputs": [],
   "source": []
  }
 ],
 "metadata": {
  "kernelspec": {
   "display_name": "Julia 0.6.2",
   "language": "julia",
   "name": "julia-0.6"
  },
  "language_info": {
   "file_extension": ".jl",
   "mimetype": "application/julia",
   "name": "julia",
   "version": "0.6.2"
  }
 },
 "nbformat": 4,
 "nbformat_minor": 2
}
