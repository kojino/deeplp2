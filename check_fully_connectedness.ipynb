{
 "cells": [
  {
   "cell_type": "code",
   "execution_count": 139,
   "metadata": {},
   "outputs": [],
   "source": [
    "import numpy as np\n",
    "from scipy.sparse import csr_matrix\n",
    "graph=np.loadtxt(\"datasets/flip/flickr/Gsym_sp.csv\",delimiter=',')"
   ]
  },
  {
   "cell_type": "code",
   "execution_count": 140,
   "metadata": {},
   "outputs": [],
   "source": [
    "num_nodes = max(max(graph[:,0]),max(graph[:,1])) + 1\n",
    "graph_sp = csr_matrix((graph[:,2], (graph[:,0], graph[:,1])), shape=(num_nodes, num_nodes))"
   ]
  },
  {
   "cell_type": "code",
   "execution_count": 141,
   "metadata": {},
   "outputs": [
    {
     "data": {
      "text/plain": [
       "7970.0"
      ]
     },
     "execution_count": 141,
     "metadata": {},
     "output_type": "execute_result"
    }
   ],
   "source": [
    "max(max(graph[:,0]),max(graph[:,1]))"
   ]
  },
  {
   "cell_type": "code",
   "execution_count": 142,
   "metadata": {},
   "outputs": [],
   "source": [
    "import networkx as nx\n",
    "G =nx.from_scipy_sparse_matrix(graph_sp)"
   ]
  },
  {
   "cell_type": "code",
   "execution_count": 143,
   "metadata": {},
   "outputs": [
    {
     "data": {
      "text/plain": [
       "(7971, 7971)"
      ]
     },
     "execution_count": 143,
     "metadata": {},
     "output_type": "execute_result"
    }
   ],
   "source": [
    "graph_sp.shape"
   ]
  },
  {
   "cell_type": "code",
   "execution_count": 144,
   "metadata": {},
   "outputs": [
    {
     "data": {
      "text/plain": [
       "False"
      ]
     },
     "execution_count": 144,
     "metadata": {},
     "output_type": "execute_result"
    }
   ],
   "source": [
    "nx.is_connected(G)"
   ]
  },
  {
   "cell_type": "code",
   "execution_count": 152,
   "metadata": {},
   "outputs": [],
   "source": [
    "isolated = list(nx.isolates(G))"
   ]
  },
  {
   "cell_type": "code",
   "execution_count": 103,
   "metadata": {},
   "outputs": [],
   "source": [
    "import numpy as np\n",
    "from scipy.sparse import csr_matrix\n",
    "graph_dense=np.loadtxt(\"datasets/flip/flickr/Gsym_dense.csv\",delimiter=',')"
   ]
  },
  {
   "cell_type": "code",
   "execution_count": 104,
   "metadata": {},
   "outputs": [],
   "source": [
    "num_nodes = max(max(graph_dense[:,0]),max(graph_dense[:,1])) + 1\n",
    "graph_sp_dense = csr_matrix((graph_dense[:,2], (graph_dense[:,0], graph_dense[:,1])), shape=(num_nodes, num_nodes))"
   ]
  },
  {
   "cell_type": "code",
   "execution_count": 105,
   "metadata": {},
   "outputs": [],
   "source": [
    "Gdense =nx.from_scipy_sparse_matrix(graph_sp_dense)"
   ]
  },
  {
   "cell_type": "code",
   "execution_count": 159,
   "metadata": {
    "scrolled": true
   },
   "outputs": [
    {
     "name": "stdout",
     "output_type": "stream",
     "text": [
      "8\n",
      "5\n",
      "3\n",
      "11\n",
      "3\n",
      "1\n",
      "3\n",
      "55\n",
      "39\n",
      "23\n",
      "35\n",
      "0\n",
      "283\n",
      "84\n",
      "35\n",
      "4\n",
      "5\n",
      "5\n",
      "17\n",
      "11\n",
      "15\n",
      "4\n",
      "10\n",
      "4\n",
      "10\n",
      "1\n",
      "5\n",
      "16\n",
      "2\n",
      "2\n",
      "114\n",
      "13\n",
      "16\n",
      "0\n",
      "15\n",
      "5\n",
      "2\n",
      "10\n",
      "19\n",
      "32\n",
      "13\n",
      "12\n",
      "36\n",
      "0\n",
      "628\n",
      "327\n",
      "280\n",
      "13\n",
      "2\n",
      "19\n",
      "94\n",
      "1\n",
      "0\n",
      "10\n",
      "9\n",
      "198\n",
      "0\n",
      "49\n",
      "8\n",
      "101\n",
      "53\n",
      "114\n",
      "128\n",
      "2\n",
      "4\n",
      "25\n",
      "45\n",
      "7\n",
      "23\n",
      "17\n",
      "5\n",
      "192\n",
      "3\n",
      "9\n",
      "87\n",
      "61\n",
      "110\n",
      "79\n",
      "202\n",
      "116\n",
      "32\n",
      "175\n",
      "3\n",
      "18\n",
      "50\n",
      "23\n",
      "4\n",
      "17\n",
      "34\n",
      "3\n",
      "79\n",
      "10\n",
      "4\n",
      "2\n",
      "7\n",
      "9\n",
      "16\n",
      "18\n",
      "0\n",
      "0\n",
      "2\n",
      "4\n",
      "0\n",
      "5\n",
      "1\n",
      "4\n",
      "2\n",
      "2\n",
      "2\n",
      "12\n",
      "6\n",
      "1\n",
      "9\n",
      "1\n",
      "3\n",
      "1\n",
      "20\n",
      "7\n",
      "36\n",
      "0\n",
      "14\n",
      "5\n",
      "1\n",
      "16\n",
      "3\n",
      "4\n",
      "5\n",
      "29\n",
      "8\n",
      "1\n",
      "3\n",
      "2\n",
      "24\n",
      "2\n",
      "1\n",
      "6\n",
      "0\n",
      "1\n",
      "2\n",
      "3\n",
      "2\n",
      "4\n",
      "4\n",
      "18\n",
      "0\n",
      "1\n",
      "0\n",
      "0\n",
      "6\n",
      "1\n",
      "0\n",
      "5\n",
      "6\n",
      "3\n",
      "6\n",
      "2\n",
      "2\n",
      "14\n",
      "3\n",
      "68\n",
      "0\n",
      "3\n",
      "3\n",
      "7\n",
      "0\n",
      "0\n",
      "1\n",
      "4\n",
      "4\n",
      "5\n",
      "8\n",
      "19\n",
      "22\n",
      "0\n",
      "27\n",
      "12\n",
      "13\n",
      "11\n",
      "9\n",
      "14\n",
      "14\n",
      "0\n",
      "0\n",
      "1\n",
      "6\n",
      "1\n",
      "13\n",
      "0\n",
      "0\n",
      "0\n",
      "6\n",
      "54\n",
      "1\n",
      "2\n",
      "9\n",
      "5\n",
      "34\n",
      "8\n",
      "0\n",
      "45\n",
      "1\n",
      "5\n",
      "0\n",
      "15\n",
      "21\n",
      "3\n",
      "4\n",
      "0\n",
      "3\n",
      "1\n",
      "0\n",
      "3\n",
      "0\n"
     ]
    }
   ],
   "source": [
    "for node in isolated:\n",
    "    edges = list(Gdense.edges(node))\n",
    "    num_edges = len(edges)\n",
    "    ind = np.random.choice(range(num_edges),1)[0]\n",
    "    print(ind)\n",
    "    edge = edges[ind]\n",
    "    G.add_edge(edge[0], edge[1], weight=1)\n",
    "    G.add_edge(edge[1], edge[0], weight=1)"
   ]
  },
  {
   "cell_type": "code",
   "execution_count": 167,
   "metadata": {},
   "outputs": [],
   "source": [
    "nodes_to_connect = []\n",
    "for sub in list(nx.connected_component_subgraphs(G)):\n",
    "    nodes = list(sub.nodes())\n",
    "    ind = np.random.choice(range(len(nodes)),1)[0]\n",
    "    nodes_to_connect.append(nodes[ind])"
   ]
  },
  {
   "cell_type": "code",
   "execution_count": 169,
   "metadata": {},
   "outputs": [],
   "source": [
    "for i in range(len(nodes_to_connect)-1):\n",
    "    j = nodes_to_connect[i]\n",
    "    k = nodes_to_connect[i+1]\n",
    "    G.add_edge(j, k, weight=1)\n",
    "    G.add_edge(k, j, weight=1)"
   ]
  },
  {
   "cell_type": "code",
   "execution_count": 170,
   "metadata": {},
   "outputs": [
    {
     "data": {
      "text/plain": [
       "True"
      ]
     },
     "execution_count": 170,
     "metadata": {},
     "output_type": "execute_result"
    }
   ],
   "source": [
    "nx.is_connected(G)"
   ]
  },
  {
   "cell_type": "code",
   "execution_count": 176,
   "metadata": {},
   "outputs": [
    {
     "data": {
      "text/plain": [
       "35852"
      ]
     },
     "execution_count": 176,
     "metadata": {},
     "output_type": "execute_result"
    }
   ],
   "source": [
    "len(out.data)"
   ]
  },
  {
   "cell_type": "code",
   "execution_count": 172,
   "metadata": {},
   "outputs": [],
   "source": [
    "out=nx.to_scipy_sparse_matrix(G).tocoo()"
   ]
  },
  {
   "cell_type": "code",
   "execution_count": 173,
   "metadata": {},
   "outputs": [],
   "source": [
    "g=np.vstack([out.row,out.col,np.ones(out.col.shape)]).T"
   ]
  },
  {
   "cell_type": "code",
   "execution_count": 177,
   "metadata": {},
   "outputs": [],
   "source": [
    "np.savetxt(\"datasets/flip/flickr/Gsym.csv\",g,delimiter=',')"
   ]
  },
  {
   "cell_type": "code",
   "execution_count": 178,
   "metadata": {},
   "outputs": [
    {
     "data": {
      "text/plain": [
       "True"
      ]
     },
     "execution_count": 178,
     "metadata": {},
     "output_type": "execute_result"
    }
   ],
   "source": [
    "np.all(graph_sp.toarray() == graph_sp.T.toarray())"
   ]
  },
  {
   "cell_type": "code",
   "execution_count": null,
   "metadata": {},
   "outputs": [],
   "source": []
  }
 ],
 "metadata": {
  "kernelspec": {
   "display_name": "ml",
   "language": "python",
   "name": "ml"
  },
  "language_info": {
   "codemirror_mode": {
    "name": "ipython",
    "version": 3
   },
   "file_extension": ".py",
   "mimetype": "text/x-python",
   "name": "python",
   "nbconvert_exporter": "python",
   "pygments_lexer": "ipython3",
   "version": "3.6.3"
  }
 },
 "nbformat": 4,
 "nbformat_minor": 2
}
